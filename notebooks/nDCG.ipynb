{
 "cells": [
  {
   "cell_type": "code",
   "execution_count": 4,
   "metadata": {
    "collapsed": true
   },
   "outputs": [],
   "source": [
    "from sklearn.metrics import ndcg_score, dcg_score\n",
    "import pandas as pd\n",
    "import numpy as np\n",
    "import random\n",
    "import torch\n",
    "from torch.utils.data import Dataset, DataLoader\n",
    "from mind import MindTensor, MindTF_IDF\n",
    "from main import train_params, test_params, tfidf_params"
   ]
  },
  {
   "cell_type": "code",
   "execution_count": 5,
   "outputs": [
    {
     "name": "stdout",
     "output_type": "stream",
     "text": [
      "Creating MindTF_IDF Class\n",
      "Setting attributes\n",
      "Loading data\n",
      "Running TF-IDF vectorizer\n",
      "Done\n"
     ]
    }
   ],
   "source": [
    "p = tfidf_params\n",
    "p['data_path'] = '../data/'\n",
    "p['pkl_path'] = '../pkl/'\n",
    "p['save'] = False\n",
    "train = MindTF_IDF(**p)"
   ],
   "metadata": {
    "collapsed": false,
    "pycharm": {
     "name": "#%%\n"
    }
   }
  },
  {
   "cell_type": "code",
   "execution_count": 6,
   "outputs": [
    {
     "data": {
      "text/plain": "      user_id                                            history  \\\n0        U100  [15220, 47060, 43752, 13391, 46313, 48611, 503...   \n1       U1000  [46201, 29589, 47958, 46201, 29589, 47958, 462...   \n2      U10001  [48099, 28246, 6579, 32652, 3475, 49425, 5105,...   \n3      U10003  [38269, 49918, 39715, 26935, 7226, 38017, 1581...   \n4      U10008  [31438, 44886, 40416, 30108, 952, 6250, 14285,...   \n...       ...                                                ...   \n49103   U9993                                     [47093, 48858]   \n49104   U9995  [32195, 40452, 35696, 38048, 36380, 37372, 488...   \n49105   U9996  [13892, 3959, 48538, 51101, 41784, 13892, 3959...   \n49106   U9997  [44745, 15222, 34494, 12629, 3459, 13147, 3738...   \n49107   U9999  [33459, 41791, 638, 2396, 43655, 35851, 1598, ...   \n\n                                             impressions  \n0      [7774, 21484, 23992, 22940, 113, 21869, 23051,...  \n1      [27709, 37969, 26464, 3272, 28230, 17231, 2787...  \n2      [35839, 9462, 29142, 15854, 28385, 9126, 11249...  \n3      [14224, 18744, 24629, 725, 22417, 16221, 27730...  \n4      [13391, 34733, 25060, 11594, 10307, 25374, 491...  \n...                                                  ...  \n49103  [14351, 11201, 18145, 8989, 9031, 3103, 17264,...  \n49104  [14351, 10992, 11201, 8989, 4769, 16996, 12330...  \n49105  [8810, 24440, 8150, 17331, 17956, 9239, 7782, ...  \n49106  [25825, 8407, 24893, 8055, 46465, 11751, 10071...  \n49107  [20415, 21927, 29253, 3529, 22110, 17935, 2232...  \n\n[49108 rows x 3 columns]",
      "text/html": "<div>\n<style scoped>\n    .dataframe tbody tr th:only-of-type {\n        vertical-align: middle;\n    }\n\n    .dataframe tbody tr th {\n        vertical-align: top;\n    }\n\n    .dataframe thead th {\n        text-align: right;\n    }\n</style>\n<table border=\"1\" class=\"dataframe\">\n  <thead>\n    <tr style=\"text-align: right;\">\n      <th></th>\n      <th>user_id</th>\n      <th>history</th>\n      <th>impressions</th>\n    </tr>\n  </thead>\n  <tbody>\n    <tr>\n      <th>0</th>\n      <td>U100</td>\n      <td>[15220, 47060, 43752, 13391, 46313, 48611, 503...</td>\n      <td>[7774, 21484, 23992, 22940, 113, 21869, 23051,...</td>\n    </tr>\n    <tr>\n      <th>1</th>\n      <td>U1000</td>\n      <td>[46201, 29589, 47958, 46201, 29589, 47958, 462...</td>\n      <td>[27709, 37969, 26464, 3272, 28230, 17231, 2787...</td>\n    </tr>\n    <tr>\n      <th>2</th>\n      <td>U10001</td>\n      <td>[48099, 28246, 6579, 32652, 3475, 49425, 5105,...</td>\n      <td>[35839, 9462, 29142, 15854, 28385, 9126, 11249...</td>\n    </tr>\n    <tr>\n      <th>3</th>\n      <td>U10003</td>\n      <td>[38269, 49918, 39715, 26935, 7226, 38017, 1581...</td>\n      <td>[14224, 18744, 24629, 725, 22417, 16221, 27730...</td>\n    </tr>\n    <tr>\n      <th>4</th>\n      <td>U10008</td>\n      <td>[31438, 44886, 40416, 30108, 952, 6250, 14285,...</td>\n      <td>[13391, 34733, 25060, 11594, 10307, 25374, 491...</td>\n    </tr>\n    <tr>\n      <th>...</th>\n      <td>...</td>\n      <td>...</td>\n      <td>...</td>\n    </tr>\n    <tr>\n      <th>49103</th>\n      <td>U9993</td>\n      <td>[47093, 48858]</td>\n      <td>[14351, 11201, 18145, 8989, 9031, 3103, 17264,...</td>\n    </tr>\n    <tr>\n      <th>49104</th>\n      <td>U9995</td>\n      <td>[32195, 40452, 35696, 38048, 36380, 37372, 488...</td>\n      <td>[14351, 10992, 11201, 8989, 4769, 16996, 12330...</td>\n    </tr>\n    <tr>\n      <th>49105</th>\n      <td>U9996</td>\n      <td>[13892, 3959, 48538, 51101, 41784, 13892, 3959...</td>\n      <td>[8810, 24440, 8150, 17331, 17956, 9239, 7782, ...</td>\n    </tr>\n    <tr>\n      <th>49106</th>\n      <td>U9997</td>\n      <td>[44745, 15222, 34494, 12629, 3459, 13147, 3738...</td>\n      <td>[25825, 8407, 24893, 8055, 46465, 11751, 10071...</td>\n    </tr>\n    <tr>\n      <th>49107</th>\n      <td>U9999</td>\n      <td>[33459, 41791, 638, 2396, 43655, 35851, 1598, ...</td>\n      <td>[20415, 21927, 29253, 3529, 22110, 17935, 2232...</td>\n    </tr>\n  </tbody>\n</table>\n<p>49108 rows × 3 columns</p>\n</div>"
     },
     "execution_count": 6,
     "metadata": {},
     "output_type": "execute_result"
    }
   ],
   "source": [
    "train.behave"
   ],
   "metadata": {
    "collapsed": false,
    "pycharm": {
     "name": "#%%\n"
    }
   }
  },
  {
   "cell_type": "code",
   "execution_count": 8,
   "outputs": [],
   "source": [
    "df = train.news.drop('clicks', axis=1)"
   ],
   "metadata": {
    "collapsed": false,
    "pycharm": {
     "name": "#%%\n"
    }
   }
  },
  {
   "cell_type": "code",
   "execution_count": 9,
   "outputs": [
    {
     "data": {
      "text/plain": "      news_id                                               text\n0      N55528  queen charles philip elizabeth swear prince brand\n1      N19639                              fat habit belly worst\n2      N61837           freeze cost trench war aid ukraine trump\n3      N53526                    health nba wife mental affected\n4      N38324           tag dermatologist according rid skin get\n...       ...                                                ...\n51277  N42402  head year crash intentional beach sentenced vi...\n51278  N41543  john decade calipari kentucky adapting second ...\n51279  N59720                               astros smith recover\n51280  N22625             paid player team highest analyzing nba\n51281  N44276                        sport car october best deal\n\n[51282 rows x 2 columns]",
      "text/html": "<div>\n<style scoped>\n    .dataframe tbody tr th:only-of-type {\n        vertical-align: middle;\n    }\n\n    .dataframe tbody tr th {\n        vertical-align: top;\n    }\n\n    .dataframe thead th {\n        text-align: right;\n    }\n</style>\n<table border=\"1\" class=\"dataframe\">\n  <thead>\n    <tr style=\"text-align: right;\">\n      <th></th>\n      <th>news_id</th>\n      <th>text</th>\n    </tr>\n  </thead>\n  <tbody>\n    <tr>\n      <th>0</th>\n      <td>N55528</td>\n      <td>queen charles philip elizabeth swear prince brand</td>\n    </tr>\n    <tr>\n      <th>1</th>\n      <td>N19639</td>\n      <td>fat habit belly worst</td>\n    </tr>\n    <tr>\n      <th>2</th>\n      <td>N61837</td>\n      <td>freeze cost trench war aid ukraine trump</td>\n    </tr>\n    <tr>\n      <th>3</th>\n      <td>N53526</td>\n      <td>health nba wife mental affected</td>\n    </tr>\n    <tr>\n      <th>4</th>\n      <td>N38324</td>\n      <td>tag dermatologist according rid skin get</td>\n    </tr>\n    <tr>\n      <th>...</th>\n      <td>...</td>\n      <td>...</td>\n    </tr>\n    <tr>\n      <th>51277</th>\n      <td>N42402</td>\n      <td>head year crash intentional beach sentenced vi...</td>\n    </tr>\n    <tr>\n      <th>51278</th>\n      <td>N41543</td>\n      <td>john decade calipari kentucky adapting second ...</td>\n    </tr>\n    <tr>\n      <th>51279</th>\n      <td>N59720</td>\n      <td>astros smith recover</td>\n    </tr>\n    <tr>\n      <th>51280</th>\n      <td>N22625</td>\n      <td>paid player team highest analyzing nba</td>\n    </tr>\n    <tr>\n      <th>51281</th>\n      <td>N44276</td>\n      <td>sport car october best deal</td>\n    </tr>\n  </tbody>\n</table>\n<p>51282 rows × 2 columns</p>\n</div>"
     },
     "execution_count": 9,
     "metadata": {},
     "output_type": "execute_result"
    }
   ],
   "source": [
    "df"
   ],
   "metadata": {
    "collapsed": false,
    "pycharm": {
     "name": "#%%\n"
    }
   }
  },
  {
   "cell_type": "code",
   "execution_count": 10,
   "outputs": [],
   "source": [
    "from sklearn.feature_extraction.text import TfidfVectorizer"
   ],
   "metadata": {
    "collapsed": false,
    "pycharm": {
     "name": "#%%\n"
    }
   }
  },
  {
   "cell_type": "code",
   "execution_count": 11,
   "outputs": [],
   "source": [
    "idf = TfidfVectorizer(use_idf=False, ngram_range=(1,2), max_features=2500, min_df=0.0005)"
   ],
   "metadata": {
    "collapsed": false,
    "pycharm": {
     "name": "#%%\n"
    }
   }
  },
  {
   "cell_type": "code",
   "execution_count": 12,
   "outputs": [],
   "source": [
    "mat = idf.fit_transform(df['text'])"
   ],
   "metadata": {
    "collapsed": false,
    "pycharm": {
     "name": "#%%\n"
    }
   }
  },
  {
   "cell_type": "code",
   "execution_count": 16,
   "outputs": [
    {
     "name": "stdout",
     "output_type": "stream",
     "text": [
      "  (0, 1745)\t0.4472135954999579\n",
      "  (0, 389)\t0.4472135954999579\n",
      "  (0, 711)\t0.4472135954999579\n",
      "  (0, 1704)\t0.4472135954999579\n",
      "  (0, 265)\t0.4472135954999579\n",
      "  (1, 786)\t0.7071067811865475\n",
      "  (1, 2477)\t0.7071067811865475\n",
      "  (2, 875)\t0.3779644730092272\n",
      "  (2, 504)\t0.3779644730092272\n",
      "  (2, 2396)\t0.3779644730092272\n",
      "  (2, 44)\t0.3779644730092272\n",
      "  (2, 2327)\t0.3779644730092272\n",
      "  (2, 2299)\t0.3779644730092272\n",
      "  (2, 2328)\t0.3779644730092272\n",
      "  (3, 997)\t0.5\n",
      "  (3, 1460)\t0.5\n",
      "  (3, 2437)\t0.5\n",
      "  (3, 1370)\t0.5\n",
      "  (4, 11)\t0.5773502691896258\n",
      "  (4, 2023)\t0.5773502691896258\n",
      "  (4, 908)\t0.5773502691896258\n",
      "  (5, 817)\t0.5773502691896258\n",
      "  (5, 1652)\t0.5773502691896258\n",
      "  (5, 1484)\t0.5773502691896258\n",
      "  (6, 1549)\t0.4082482904638631\n",
      "  :\t:\n",
      "  (51277, 1318)\t0.35355339059327373\n",
      "  (51277, 993)\t0.35355339059327373\n",
      "  (51277, 182)\t0.35355339059327373\n",
      "  (51277, 2373)\t0.35355339059327373\n",
      "  (51277, 1707)\t0.35355339059327373\n",
      "  (51277, 1964)\t0.35355339059327373\n",
      "  (51278, 1150)\t0.3779644730092272\n",
      "  (51278, 374)\t0.3779644730092272\n",
      "  (51278, 2088)\t0.3779644730092272\n",
      "  (51278, 1780)\t0.3779644730092272\n",
      "  (51278, 1942)\t0.3779644730092272\n",
      "  (51278, 1175)\t0.3779644730092272\n",
      "  (51278, 590)\t0.3779644730092272\n",
      "  (51279, 133)\t0.7071067811865475\n",
      "  (51279, 2030)\t0.7071067811865475\n",
      "  (51280, 1460)\t0.4472135954999579\n",
      "  (51280, 1652)\t0.4472135954999579\n",
      "  (51280, 2186)\t0.4472135954999579\n",
      "  (51280, 1565)\t0.4472135954999579\n",
      "  (51280, 1016)\t0.4472135954999579\n",
      "  (51281, 1513)\t0.4472135954999579\n",
      "  (51281, 210)\t0.4472135954999579\n",
      "  (51281, 337)\t0.4472135954999579\n",
      "  (51281, 2065)\t0.4472135954999579\n",
      "  (51281, 584)\t0.4472135954999579\n"
     ]
    }
   ],
   "source": [
    "print(mat[0:])"
   ],
   "metadata": {
    "collapsed": false,
    "pycharm": {
     "name": "#%%\n"
    }
   }
  }
 ],
 "metadata": {
  "kernelspec": {
   "display_name": "Python 3",
   "language": "python",
   "name": "python3"
  },
  "language_info": {
   "codemirror_mode": {
    "name": "ipython",
    "version": 2
   },
   "file_extension": ".py",
   "mimetype": "text/x-python",
   "name": "python",
   "nbconvert_exporter": "python",
   "pygments_lexer": "ipython2",
   "version": "2.7.6"
  }
 },
 "nbformat": 4,
 "nbformat_minor": 0
}