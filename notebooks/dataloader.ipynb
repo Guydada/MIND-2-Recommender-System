{
 "cells": [
  {
   "cell_type": "code",
   "execution_count": 3,
   "metadata": {
    "collapsed": true
   },
   "outputs": [],
   "source": [
    "from sklearn.metrics import ndcg_score, dcg_score\n",
    "import pandas as pd\n",
    "import numpy as np\n",
    "import random\n",
    "import torch\n",
    "from torch.utils.data import Dataset, DataLoader\n",
    "from mind import MindTensor\n",
    "from main import train_params, test_params, tfidf_params"
   ]
  },
  {
   "cell_type": "code",
   "execution_count": 4,
   "outputs": [
    {
     "name": "stdout",
     "output_type": "stream",
     "text": [
      "Creating MindTensor Class\n",
      "Setting attributes\n",
      "Loading data\n",
      "Running TF-IDF vectorizer\n",
      "Done\n"
     ]
    }
   ],
   "source": [
    "train_params['data_path'] = '../data/'\n",
    "train_params['pkl_path'] = '../pkl/'\n",
    "train_params['save'] = False\n",
    "train = MindTensor(**train_params)"
   ],
   "metadata": {
    "collapsed": false,
    "pycharm": {
     "name": "#%%\n"
    }
   }
  },
  {
   "cell_type": "code",
   "execution_count": 5,
   "outputs": [],
   "source": [
    "dataloader = DataLoader(train, batch_size=64, shuffle=True, num_workers=0)"
   ],
   "metadata": {
    "collapsed": false,
    "pycharm": {
     "name": "#%%\n"
    }
   }
  },
  {
   "cell_type": "code",
   "execution_count": 6,
   "outputs": [
    {
     "name": "stdout",
     "output_type": "stream",
     "text": [
      "torch.Size([64, 1, 2895])\n",
      "torch.Size([64])\n",
      "torch.Size([64, 1, 2895])\n",
      "torch.Size([64])\n",
      "torch.Size([64, 1, 2895])\n",
      "torch.Size([64])\n"
     ]
    }
   ],
   "source": [
    "for i in range(3):\n",
    "    data, label = next(iter(dataloader))\n",
    "    print(data.shape)\n",
    "    print(label.shape)"
   ],
   "metadata": {
    "collapsed": false,
    "pycharm": {
     "name": "#%%\n"
    }
   }
  }
 ],
 "metadata": {
  "kernelspec": {
   "display_name": "Python 3",
   "language": "python",
   "name": "python3"
  },
  "language_info": {
   "codemirror_mode": {
    "name": "ipython",
    "version": 2
   },
   "file_extension": ".py",
   "mimetype": "text/x-python",
   "name": "python",
   "nbconvert_exporter": "python",
   "pygments_lexer": "ipython2",
   "version": "2.7.6"
  }
 },
 "nbformat": 4,
 "nbformat_minor": 0
}