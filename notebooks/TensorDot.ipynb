{
 "cells": [
  {
   "cell_type": "code",
   "execution_count": 1,
   "metadata": {
    "collapsed": true,
    "pycharm": {
     "name": "#%%\n"
    }
   },
   "outputs": [
    {
     "name": "stdout",
     "output_type": "stream",
     "text": [
      "\n"
     ]
    }
   ],
   "source": [
    "from sklearn.metrics import ndcg_score, dcg_score\n",
    "import pandas as pd\n",
    "import numpy as np\n",
    "import random\n",
    "import torch\n",
    "from torch.utils.data import Dataset, DataLoader\n",
    "from mind import MindTF_IDF, MindTensorMul, MindTensorDot\n",
    "from main import train_params, test_params, tfidf_params\n",
    "import pandas as pd\n",
    "import numpy as np\n",
    "import matplotlib.pyplot as plt"
   ]
  },
  {
   "cell_type": "code",
   "execution_count": 3,
   "outputs": [
    {
     "name": "stdout",
     "output_type": "stream",
     "text": [
      "Creating MindTF_IDF Class\n",
      "Setting attributes\n",
      "Loading data\n",
      "Running TF-IDF vectorizer\n",
      "Dropping train MindTF_IDF duplicates from behave\n",
      "Done\n"
     ]
    }
   ],
   "source": [
    "p = tfidf_params\n",
    "p['data_path'] = '../data/'\n",
    "p['pkl_path'] = '../pkl/'\n",
    "p['group'] = False\n",
    "# p['data_rows'] = 10000\n",
    "p['save'] = False\n",
    "p['min_df'] = 0.0005\n",
    "p['max_features'] = None\n",
    "train = MindTF_IDF(**p)"
   ],
   "metadata": {
    "collapsed": false,
    "pycharm": {
     "name": "#%%\n"
    }
   }
  },
  {
   "cell_type": "code",
   "execution_count": 11,
   "outputs": [
    {
     "name": "stdout",
     "output_type": "stream",
     "text": [
      "  (0, 2868)\t0.4058208857299477\n",
      "  (0, 2404)\t0.4008981516595655\n",
      "  (0, 5809)\t0.3653172940523761\n",
      "  (0, 5844)\t0.37782688304814355\n",
      "  (0, 3634)\t0.2854345354472388\n",
      "  (0, 3592)\t0.24262493171304125\n",
      "  (0, 993)\t0.4008981516595655\n",
      "  (0, 606)\t0.22591544725675497\n",
      "  (0, 2863)\t0.21513566181752497\n",
      "  (1, 243)\t0.24664195976421588\n",
      "  (1, 1931)\t0.2817189452245038\n",
      "  (1, 5303)\t0.3179939784860131\n",
      "  (1, 4720)\t0.3280191465881738\n",
      "  (1, 6929)\t0.3766929023594145\n",
      "  (1, 5046)\t0.3565877528755956\n",
      "  (1, 454)\t0.42789514043866383\n",
      "  (1, 918)\t0.2389491958716511\n",
      "  (1, 6703)\t0.2574220053532919\n",
      "  (1, 7405)\t0.15572780766684885\n",
      "  (1, 447)\t0.22654993307231652\n",
      "  (2, 2692)\t0.2784956297846255\n",
      "  (2, 4186)\t0.2869837227059136\n",
      "  (2, 6491)\t0.2338451941074308\n",
      "  (2, 3185)\t0.1821062722244035\n",
      "  (2, 5006)\t0.21356332607537196\n",
      "  :\t:\n",
      "  (51179, 5805)\t0.11815087167241381\n",
      "  (51179, 3991)\t0.13369252087308467\n",
      "  (51179, 3050)\t0.14918583206265912\n",
      "  (51179, 4607)\t0.12268745242077699\n",
      "  (51179, 2588)\t0.087448119234217\n",
      "  (51179, 3548)\t0.1302930911329745\n",
      "  (51179, 6082)\t0.05433140809599548\n",
      "  (51179, 3623)\t0.12348102901613285\n",
      "  (51180, 4581)\t0.48560544157884894\n",
      "  (51180, 2923)\t0.49748905159606915\n",
      "  (51180, 4129)\t0.2958000983761739\n",
      "  (51180, 6545)\t0.29532544156520124\n",
      "  (51180, 4811)\t0.3516067070786222\n",
      "  (51180, 6082)\t0.16828314784990173\n",
      "  (51180, 4161)\t0.4359250964363896\n",
      "  (51181, 610)\t0.45595354014790906\n",
      "  (51181, 1621)\t0.4386581489645499\n",
      "  (51181, 448)\t0.45595354014790906\n",
      "  (51181, 1620)\t0.27569168005225136\n",
      "  (51181, 4129)\t0.212722676932928\n",
      "  (51181, 918)\t0.2498405735650475\n",
      "  (51181, 447)\t0.23687614856135977\n",
      "  (51181, 606)\t0.23156114178250167\n",
      "  (51181, 4428)\t0.2893751421112486\n",
      "  (51181, 6082)\t0.1210197085458922\n"
     ]
    }
   ],
   "source": [
    "# get 100 lines of sparse matrix\n",
    "\n",
    "print(train.matrix[100:, :])"
   ],
   "metadata": {
    "collapsed": false,
    "pycharm": {
     "name": "#%%\n"
    }
   }
  }
 ],
 "metadata": {
  "kernelspec": {
   "display_name": "Python 3",
   "language": "python",
   "name": "python3"
  },
  "language_info": {
   "codemirror_mode": {
    "name": "ipython",
    "version": 2
   },
   "file_extension": ".py",
   "mimetype": "text/x-python",
   "name": "python",
   "nbconvert_exporter": "python",
   "pygments_lexer": "ipython2",
   "version": "2.7.6"
  }
 },
 "nbformat": 4,
 "nbformat_minor": 0
}