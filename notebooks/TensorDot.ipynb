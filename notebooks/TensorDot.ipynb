{
 "cells": [
  {
   "cell_type": "code",
   "execution_count": 1,
   "metadata": {
    "collapsed": true,
    "pycharm": {
     "name": "#%%\n"
    }
   },
   "outputs": [
    {
     "name": "stdout",
     "output_type": "stream",
     "text": [
      "\n"
     ]
    }
   ],
   "source": [
    "from sklearn.metrics import ndcg_score, dcg_score\n",
    "import pandas as pd\n",
    "import numpy as np\n",
    "import random\n",
    "import torch\n",
    "from torch.utils.data import Dataset, DataLoader\n",
    "from mind import MindTF_IDF, MindTensorMul, MindTensorDot\n",
    "from main import train_params, test_params, tfidf_params\n",
    "import pandas as pd\n",
    "import numpy as np\n",
    "import matplotlib.pyplot as plt"
   ]
  },
  {
   "cell_type": "code",
   "execution_count": 3,
   "outputs": [
    {
     "name": "stdout",
     "output_type": "stream",
     "text": [
      "Creating MindTF_IDF Class\n",
      "Setting attributes\n",
      "Loading data\n",
      "Running TF-IDF vectorizer\n",
      "Dropping train MindTF_IDF duplicates from behave\n",
      "Done\n"
     ]
    }
   ],
   "source": [
    "p = tfidf_params\n",
    "p['data_path'] = '../data/'\n",
    "p['pkl_path'] = '../pkl/'\n",
    "p['group'] = False\n",
    "# p['data_rows'] = 10000\n",
    "p['save'] = False\n",
    "p['min_df'] = 0.0005\n",
    "p['max_features'] = None\n",
    "train = MindTF_IDF(**p)"
   ],
   "metadata": {
    "collapsed": false,
    "pycharm": {
     "name": "#%%\n"
    }
   }
  },
  {
   "cell_type": "code",
   "execution_count": 4,
   "outputs": [
    {
     "data": {
      "text/plain": "      news_id                                               text  clicks\n0      N55528  notebook shop swear live charles lifestyle pri...  4249.0\n1      N19639  health good habit harmless unwanted belly back...  3289.0\n2      N61837  war trump empty sniper already ukraine molchan...  3181.0\n3      N53526  health felt affected nba nearly like fact dest...  2782.0\n4      N38324  skin health according seem good reader get har...  2519.0\n...       ...                                                ...     ...\n51277  N42402  intentional bar matthew malicious court pleade...     0.0\n51278  N41543  john sport challenge start kentucky basketball...     0.0\n51279  N59720  hallway celebration josé verge smith lead full...     0.0\n51280  N22625   sport highest team nba nan analyzing player paid     0.0\n51281  N44276               sport auto deal best nan october car     0.0\n\n[51282 rows x 3 columns]",
      "text/html": "<div>\n<style scoped>\n    .dataframe tbody tr th:only-of-type {\n        vertical-align: middle;\n    }\n\n    .dataframe tbody tr th {\n        vertical-align: top;\n    }\n\n    .dataframe thead th {\n        text-align: right;\n    }\n</style>\n<table border=\"1\" class=\"dataframe\">\n  <thead>\n    <tr style=\"text-align: right;\">\n      <th></th>\n      <th>news_id</th>\n      <th>text</th>\n      <th>clicks</th>\n    </tr>\n  </thead>\n  <tbody>\n    <tr>\n      <th>0</th>\n      <td>N55528</td>\n      <td>notebook shop swear live charles lifestyle pri...</td>\n      <td>4249.0</td>\n    </tr>\n    <tr>\n      <th>1</th>\n      <td>N19639</td>\n      <td>health good habit harmless unwanted belly back...</td>\n      <td>3289.0</td>\n    </tr>\n    <tr>\n      <th>2</th>\n      <td>N61837</td>\n      <td>war trump empty sniper already ukraine molchan...</td>\n      <td>3181.0</td>\n    </tr>\n    <tr>\n      <th>3</th>\n      <td>N53526</td>\n      <td>health felt affected nba nearly like fact dest...</td>\n      <td>2782.0</td>\n    </tr>\n    <tr>\n      <th>4</th>\n      <td>N38324</td>\n      <td>skin health according seem good reader get har...</td>\n      <td>2519.0</td>\n    </tr>\n    <tr>\n      <th>...</th>\n      <td>...</td>\n      <td>...</td>\n      <td>...</td>\n    </tr>\n    <tr>\n      <th>51277</th>\n      <td>N42402</td>\n      <td>intentional bar matthew malicious court pleade...</td>\n      <td>0.0</td>\n    </tr>\n    <tr>\n      <th>51278</th>\n      <td>N41543</td>\n      <td>john sport challenge start kentucky basketball...</td>\n      <td>0.0</td>\n    </tr>\n    <tr>\n      <th>51279</th>\n      <td>N59720</td>\n      <td>hallway celebration josé verge smith lead full...</td>\n      <td>0.0</td>\n    </tr>\n    <tr>\n      <th>51280</th>\n      <td>N22625</td>\n      <td>sport highest team nba nan analyzing player paid</td>\n      <td>0.0</td>\n    </tr>\n    <tr>\n      <th>51281</th>\n      <td>N44276</td>\n      <td>sport auto deal best nan october car</td>\n      <td>0.0</td>\n    </tr>\n  </tbody>\n</table>\n<p>51282 rows × 3 columns</p>\n</div>"
     },
     "execution_count": 4,
     "metadata": {},
     "output_type": "execute_result"
    }
   ],
   "source": [
    "train.news"
   ],
   "metadata": {
    "collapsed": false,
    "pycharm": {
     "name": "#%%\n"
    }
   }
  }
 ],
 "metadata": {
  "kernelspec": {
   "display_name": "Python 3",
   "language": "python",
   "name": "python3"
  },
  "language_info": {
   "codemirror_mode": {
    "name": "ipython",
    "version": 2
   },
   "file_extension": ".py",
   "mimetype": "text/x-python",
   "name": "python",
   "nbconvert_exporter": "python",
   "pygments_lexer": "ipython2",
   "version": "2.7.6"
  }
 },
 "nbformat": 4,
 "nbformat_minor": 0
}