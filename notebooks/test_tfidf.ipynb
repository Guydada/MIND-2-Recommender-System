{
 "cells": [
  {
   "cell_type": "code",
   "execution_count": 1,
   "metadata": {
    "collapsed": true
   },
   "outputs": [],
   "source": [
    "import numpy as np\n",
    "\n",
    "from mind import *\n",
    "import pandas as pd"
   ]
  },
  {
   "cell_type": "code",
   "execution_count": 2,
   "outputs": [
    {
     "data": {
      "text/plain": "      user_id                                            history  \\\n0        U100  [N42330, N55743, N20575, N50095, N45954, N3399...   \n1       U1000                            [N41244, N1789, N29641]   \n2      U10001  [N56447, N27256, N46444, N27644, N51706, N6131...   \n3      U10003  [N1282, N26619, N28257, N61052, N31431, N50839...   \n4      U10008  [N63049, N29207, N32312, N59704, N38870, N4675...   \n...       ...                                                ...   \n49103   U9993                                   [N47458, N14114]   \n49104   U9995  [N13337, N28757, N29276, N45146, N49103, N2309...   \n49105   U9996             [N60340, N28296, N8448, N31165, N4719]   \n49106   U9997  [N9072, N38367, N18106, N46990, N46759, N64459...   \n49107   U9999  [N64049, N20039, N14761, N64503, N25577, N2602...   \n\n                                             impressions  \n0      [N61235-0, N54489-0, N42597-0, N7800-1, N61408...  \n1      [N16148-0, N43628-0, N13094-0, N32774-0, N5703...  \n2      [N42860-0, N62750-0, N33025-0, N3167-0, N51975...  \n3      [N58710-0, N39770-0, N33964-0, N64009-0, N3669...  \n4      [N24272-0, N8016-0, N43595-0, N732-0, N8929-0,...  \n...                                                  ...  \n49103  [N28918-0, N53515-0, N34869-0, N37204-0, N1557...  \n49104  [N47098-0, N50872-0, N44698-0, N55943-0, N496-...  \n49105  [N287-1, N64094-0, N51048-0, N39010-0, N38779-...  \n49106  [N35273-0, N4510-0, N48410-1, N29170-0, N26262...  \n49107  [N15224-0, N57651-0, N23184-0, N37533-0, N1593...  \n\n[49108 rows x 3 columns]",
      "text/html": "<div>\n<style scoped>\n    .dataframe tbody tr th:only-of-type {\n        vertical-align: middle;\n    }\n\n    .dataframe tbody tr th {\n        vertical-align: top;\n    }\n\n    .dataframe thead th {\n        text-align: right;\n    }\n</style>\n<table border=\"1\" class=\"dataframe\">\n  <thead>\n    <tr style=\"text-align: right;\">\n      <th></th>\n      <th>user_id</th>\n      <th>history</th>\n      <th>impressions</th>\n    </tr>\n  </thead>\n  <tbody>\n    <tr>\n      <th>0</th>\n      <td>U100</td>\n      <td>[N42330, N55743, N20575, N50095, N45954, N3399...</td>\n      <td>[N61235-0, N54489-0, N42597-0, N7800-1, N61408...</td>\n    </tr>\n    <tr>\n      <th>1</th>\n      <td>U1000</td>\n      <td>[N41244, N1789, N29641]</td>\n      <td>[N16148-0, N43628-0, N13094-0, N32774-0, N5703...</td>\n    </tr>\n    <tr>\n      <th>2</th>\n      <td>U10001</td>\n      <td>[N56447, N27256, N46444, N27644, N51706, N6131...</td>\n      <td>[N42860-0, N62750-0, N33025-0, N3167-0, N51975...</td>\n    </tr>\n    <tr>\n      <th>3</th>\n      <td>U10003</td>\n      <td>[N1282, N26619, N28257, N61052, N31431, N50839...</td>\n      <td>[N58710-0, N39770-0, N33964-0, N64009-0, N3669...</td>\n    </tr>\n    <tr>\n      <th>4</th>\n      <td>U10008</td>\n      <td>[N63049, N29207, N32312, N59704, N38870, N4675...</td>\n      <td>[N24272-0, N8016-0, N43595-0, N732-0, N8929-0,...</td>\n    </tr>\n    <tr>\n      <th>...</th>\n      <td>...</td>\n      <td>...</td>\n      <td>...</td>\n    </tr>\n    <tr>\n      <th>49103</th>\n      <td>U9993</td>\n      <td>[N47458, N14114]</td>\n      <td>[N28918-0, N53515-0, N34869-0, N37204-0, N1557...</td>\n    </tr>\n    <tr>\n      <th>49104</th>\n      <td>U9995</td>\n      <td>[N13337, N28757, N29276, N45146, N49103, N2309...</td>\n      <td>[N47098-0, N50872-0, N44698-0, N55943-0, N496-...</td>\n    </tr>\n    <tr>\n      <th>49105</th>\n      <td>U9996</td>\n      <td>[N60340, N28296, N8448, N31165, N4719]</td>\n      <td>[N287-1, N64094-0, N51048-0, N39010-0, N38779-...</td>\n    </tr>\n    <tr>\n      <th>49106</th>\n      <td>U9997</td>\n      <td>[N9072, N38367, N18106, N46990, N46759, N64459...</td>\n      <td>[N35273-0, N4510-0, N48410-1, N29170-0, N26262...</td>\n    </tr>\n    <tr>\n      <th>49107</th>\n      <td>U9999</td>\n      <td>[N64049, N20039, N14761, N64503, N25577, N2602...</td>\n      <td>[N15224-0, N57651-0, N23184-0, N37533-0, N1593...</td>\n    </tr>\n  </tbody>\n</table>\n<p>49108 rows × 3 columns</p>\n</div>"
     },
     "execution_count": 2,
     "metadata": {},
     "output_type": "execute_result"
    }
   ],
   "source": [
    "file = 'data/train/behaviors.tsv'\n",
    "behave_df = pd.read_table(file,\n",
    "                          sep='\\t',\n",
    "                          header=None)\n",
    "behave_df.drop([0, 2],\n",
    "               axis=1,\n",
    "               inplace=True)\n",
    "behave_df.columns = ['user_id',\n",
    "                     'history',\n",
    "                     'impressions']\n",
    "# remove null values\n",
    "behave_df = behave_df.dropna()\n",
    "behave_df = behave_df[behave_df['history'].apply(lambda x: len(x) > 1)]\n",
    "behave_df['impressions'] = behave_df['impressions'].apply(lambda x: x.split(' '))\n",
    "behave_df['history'] = behave_df['history'].apply(lambda x: x.split(' '))\n",
    "behave_df = behave_df.groupby('user_id').agg(sum).reset_index()\n",
    "behave_df['history'] = behave_df['history'].apply(lambda x: list(set(x)))\n",
    "behave_df"
   ],
   "metadata": {
    "collapsed": false,
    "pycharm": {
     "name": "#%%\n"
    }
   }
  },
  {
   "cell_type": "code",
   "execution_count": 3,
   "outputs": [
    {
     "name": "stdout",
     "output_type": "stream",
     "text": [
      "\u001B[32mSaved file founded, loading pickle file...\u001B[0m\n",
      "Done Loading Mind train.pkl of dataset train, fg='green\u001B[0m\n"
     ]
    }
   ],
   "source": [
    "train = load_mind(overwrite=False)"
   ],
   "metadata": {
    "collapsed": false,
    "pycharm": {
     "name": "#%%\n"
    }
   }
  },
  {
   "cell_type": "code",
   "execution_count": 4,
   "outputs": [],
   "source": [
    "x = csr_matrix.todense(train.tfidf_matrix)"
   ],
   "metadata": {
    "collapsed": false,
    "pycharm": {
     "name": "#%%\n"
    }
   }
  },
  {
   "cell_type": "code",
   "execution_count": 5,
   "outputs": [
    {
     "data": {
      "text/plain": "matrix([[0., 0., 0., ..., 0., 0., 0.],\n        [0., 0., 0., ..., 0., 0., 0.],\n        [0., 0., 0., ..., 0., 0., 0.],\n        ...,\n        [0., 0., 0., ..., 0., 0., 0.],\n        [0., 0., 0., ..., 0., 0., 0.],\n        [0., 0., 0., ..., 0., 0., 0.]])"
     },
     "execution_count": 5,
     "metadata": {},
     "output_type": "execute_result"
    }
   ],
   "source": [
    "x"
   ],
   "metadata": {
    "collapsed": false,
    "pycharm": {
     "name": "#%%\n"
    }
   }
  },
  {
   "cell_type": "code",
   "execution_count": 6,
   "outputs": [],
   "source": [
    "c = train.behave['history'].to_frame()"
   ],
   "metadata": {
    "collapsed": false,
    "pycharm": {
     "name": "#%%\n"
    }
   }
  },
  {
   "cell_type": "code",
   "execution_count": 8,
   "outputs": [],
   "source": [
    "ind = train.behave['history'][0]"
   ],
   "metadata": {
    "collapsed": false,
    "pycharm": {
     "name": "#%%\n"
    }
   }
  },
  {
   "cell_type": "code",
   "execution_count": 14,
   "outputs": [],
   "source": [
    "vec = np.squeeze(np.asarray(np.mean(x[ind], axis=0)))"
   ],
   "metadata": {
    "collapsed": false,
    "pycharm": {
     "name": "#%%\n"
    }
   }
  },
  {
   "cell_type": "code",
   "execution_count": 15,
   "outputs": [
    {
     "data": {
      "text/plain": "array([0., 0., 0., ..., 0., 0., 0.])"
     },
     "execution_count": 15,
     "metadata": {},
     "output_type": "execute_result"
    }
   ],
   "source": [
    "vec"
   ],
   "metadata": {
    "collapsed": false,
    "pycharm": {
     "name": "#%%\n"
    }
   }
  },
  {
   "cell_type": "code",
   "execution_count": 16,
   "outputs": [
    {
     "data": {
      "text/plain": "48322"
     },
     "execution_count": 16,
     "metadata": {},
     "output_type": "execute_result"
    }
   ],
   "source": [
    "train.behave['impressions'][0]"
   ],
   "metadata": {
    "collapsed": false,
    "pycharm": {
     "name": "#%%\n"
    }
   }
  }
 ],
 "metadata": {
  "kernelspec": {
   "display_name": "Python 3",
   "language": "python",
   "name": "python3"
  },
  "language_info": {
   "codemirror_mode": {
    "name": "ipython",
    "version": 2
   },
   "file_extension": ".py",
   "mimetype": "text/x-python",
   "name": "python",
   "nbconvert_exporter": "python",
   "pygments_lexer": "ipython2",
   "version": "2.7.6"
  }
 },
 "nbformat": 4,
 "nbformat_minor": 0
}