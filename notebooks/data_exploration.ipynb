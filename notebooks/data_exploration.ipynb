{
 "cells": [
  {
   "cell_type": "code",
   "execution_count": 1,
   "metadata": {},
   "outputs": [],
   "source": [
    "import matplotlib.pyplot as plt\n",
    "import pandas as pd\n",
    "import numpy as np\n",
    "from utils.load_preprocess import *\n",
    "import missingno as msno"
   ]
  },
  {
   "cell_type": "code",
   "execution_count": 2,
   "outputs": [
    {
     "data": {
      "text/plain": "          category      subcategory  \\\nnews_id                               \nN55528   lifestyle  lifestyleroyals   \nN19639      health       weightloss   \nN61837        news        newsworld   \nN53526      health           voices   \nN38324      health          medical   \n\n                                                     title  \\\nnews_id                                                      \nN55528   The Brands Queen Elizabeth, Prince Charles, an...   \nN19639                       50 Worst Habits For Belly Fat   \nN61837   The Cost of Trump's Aid Freeze in the Trenches...   \nN53526   I Was An NBA Wife. Here's How It Affected My M...   \nN38324   How to Get Rid of Skin Tags, According to a De...   \n\n                                                  abstract  \nnews_id                                                     \nN55528   Shop the notebooks, jackets, and more that the...  \nN19639   These seemingly harmless habits are holding yo...  \nN61837   Lt. Ivan Molchanets peeked over a parapet of s...  \nN53526   I felt like I was a fraud, and being an NBA wi...  \nN38324   They seem harmless, but there's a very good re...  ",
      "text/html": "<div>\n<style scoped>\n    .dataframe tbody tr th:only-of-type {\n        vertical-align: middle;\n    }\n\n    .dataframe tbody tr th {\n        vertical-align: top;\n    }\n\n    .dataframe thead th {\n        text-align: right;\n    }\n</style>\n<table border=\"1\" class=\"dataframe\">\n  <thead>\n    <tr style=\"text-align: right;\">\n      <th></th>\n      <th>category</th>\n      <th>subcategory</th>\n      <th>title</th>\n      <th>abstract</th>\n    </tr>\n    <tr>\n      <th>news_id</th>\n      <th></th>\n      <th></th>\n      <th></th>\n      <th></th>\n    </tr>\n  </thead>\n  <tbody>\n    <tr>\n      <th>N55528</th>\n      <td>lifestyle</td>\n      <td>lifestyleroyals</td>\n      <td>The Brands Queen Elizabeth, Prince Charles, an...</td>\n      <td>Shop the notebooks, jackets, and more that the...</td>\n    </tr>\n    <tr>\n      <th>N19639</th>\n      <td>health</td>\n      <td>weightloss</td>\n      <td>50 Worst Habits For Belly Fat</td>\n      <td>These seemingly harmless habits are holding yo...</td>\n    </tr>\n    <tr>\n      <th>N61837</th>\n      <td>news</td>\n      <td>newsworld</td>\n      <td>The Cost of Trump's Aid Freeze in the Trenches...</td>\n      <td>Lt. Ivan Molchanets peeked over a parapet of s...</td>\n    </tr>\n    <tr>\n      <th>N53526</th>\n      <td>health</td>\n      <td>voices</td>\n      <td>I Was An NBA Wife. Here's How It Affected My M...</td>\n      <td>I felt like I was a fraud, and being an NBA wi...</td>\n    </tr>\n    <tr>\n      <th>N38324</th>\n      <td>health</td>\n      <td>medical</td>\n      <td>How to Get Rid of Skin Tags, According to a De...</td>\n      <td>They seem harmless, but there's a very good re...</td>\n    </tr>\n  </tbody>\n</table>\n</div>"
     },
     "execution_count": 2,
     "metadata": {},
     "output_type": "execute_result"
    }
   ],
   "source": [
    "news_df = pd.read_table('./data/train/news.tsv', sep='\\t',header=None)\n",
    "news_df.drop(news_df.columns[5:8],\n",
    "             axis=1,\n",
    "             inplace=True)\n",
    "news_df = news_df.rename(columns={0: 'news_id',\n",
    "                                  1: 'category',\n",
    "                                  2: 'subcategory',\n",
    "                                  3: 'title',\n",
    "                                  4: 'abstract'})\n",
    "# set news_id as index\n",
    "news_df.set_index('news_id', inplace=True)\n",
    "news_df.head()"
   ],
   "metadata": {
    "collapsed": false,
    "pycharm": {
     "name": "#%%\n"
    }
   }
  },
  {
   "cell_type": "code",
   "execution_count": 3,
   "outputs": [
    {
     "data": {
      "text/plain": "51282"
     },
     "execution_count": 3,
     "metadata": {},
     "output_type": "execute_result"
    }
   ],
   "source": [
    "# count unique index\n",
    "len(news_df.index.unique())"
   ],
   "metadata": {
    "collapsed": false,
    "pycharm": {
     "name": "#%%\n"
    }
   }
  },
  {
   "cell_type": "code",
   "execution_count": 4,
   "outputs": [
    {
     "data": {
      "text/plain": "<Figure size 432x288 with 1 Axes>",
      "image/png": "[encoded data removed]"
     },
     "metadata": {
      "needs_background": "light"
     },
     "output_type": "display_data"
    }
   ],
   "source": [
    "# count unique category\n",
    "len(news_df['category'].unique())\n",
    "# plot category distribution\n",
    "news_df['category'].value_counts().plot(kind='bar')\n",
    "plt.show()"
   ],
   "metadata": {
    "collapsed": false,
    "pycharm": {
     "name": "#%%\n"
    }
   }
  },
  {
   "cell_type": "code",
   "execution_count": 5,
   "outputs": [
    {
     "data": {
      "text/plain": "       category subcategory              title  \\\ncount     51282       51282              51282   \nunique       17         264              50434   \ntop        news      newsus  Photos of the Day   \nfreq      15774        6564                 15   \n\n                                                 abstract  \ncount                                               48616  \nunique                                              47309  \ntop     What's the weather today? What's the weather f...  \nfreq                                                  124  ",
      "text/html": "<div>\n<style scoped>\n    .dataframe tbody tr th:only-of-type {\n        vertical-align: middle;\n    }\n\n    .dataframe tbody tr th {\n        vertical-align: top;\n    }\n\n    .dataframe thead th {\n        text-align: right;\n    }\n</style>\n<table border=\"1\" class=\"dataframe\">\n  <thead>\n    <tr style=\"text-align: right;\">\n      <th></th>\n      <th>category</th>\n      <th>subcategory</th>\n      <th>title</th>\n      <th>abstract</th>\n    </tr>\n  </thead>\n  <tbody>\n    <tr>\n      <th>count</th>\n      <td>51282</td>\n      <td>51282</td>\n      <td>51282</td>\n      <td>48616</td>\n    </tr>\n    <tr>\n      <th>unique</th>\n      <td>17</td>\n      <td>264</td>\n      <td>50434</td>\n      <td>47309</td>\n    </tr>\n    <tr>\n      <th>top</th>\n      <td>news</td>\n      <td>newsus</td>\n      <td>Photos of the Day</td>\n      <td>What's the weather today? What's the weather f...</td>\n    </tr>\n    <tr>\n      <th>freq</th>\n      <td>15774</td>\n      <td>6564</td>\n      <td>15</td>\n      <td>124</td>\n    </tr>\n  </tbody>\n</table>\n</div>"
     },
     "execution_count": 5,
     "metadata": {},
     "output_type": "execute_result"
    }
   ],
   "source": [
    "news_df.describe()"
   ],
   "metadata": {
    "collapsed": false,
    "pycharm": {
     "name": "#%%\n"
    }
   }
  },
  {
   "cell_type": "markdown",
   "source": [
    "We Can notice a lot of abstracts are empty.This won't affect our analysis since we are going to use TF-IDF to extract features only from titles."
   ],
   "metadata": {
    "collapsed": false
   }
  },
  {
   "cell_type": "code",
   "execution_count": 6,
   "metadata": {
    "pycharm": {
     "name": "#%%\n"
    }
   },
   "outputs": [],
   "source": [
    "behave_df = pd.read_table('./data/train/behaviors.tsv', sep='\\t', header=None )\n",
    "behave_df.drop([0, 2],\n",
    "               axis=1,\n",
    "               inplace=True)\n",
    "behave_df.columns = ['user_id', 'history', 'impressions']\n",
    "# set user_id as index\n",
    "# behave_df.set_index('user_id', inplace=True)"
   ]
  },
  {
   "cell_type": "code",
   "execution_count": 7,
   "outputs": [
    {
     "data": {
      "text/plain": "       user_id                                            history  \\\n0       U13740  N55189 N42782 N34694 N45794 N18445 N63302 N104...   \n1       U91836  N31739 N6072 N63045 N23979 N35656 N43353 N8129...   \n2       U73700  N10732 N25792 N7563 N21087 N41087 N5445 N60384...   \n3       U34670  N45729 N2203 N871 N53880 N41375 N43142 N33013 ...   \n4        U8125                        N10078 N56514 N14904 N33740   \n...        ...                                                ...   \n156960  U21593  N7432 N58559 N1954 N43353 N14343 N13008 N28833...   \n156961  U10123  N9803 N104 N24462 N57318 N55743 N40526 N31726 ...   \n156962  U75630  N29898 N59704 N4408 N9803 N53644 N26103 N812 N...   \n156963  U44625  N4118 N47297 N3164 N43295 N6056 N38747 N42973 ...   \n156964  U64800                                      N22997 N48742   \n\n                                              impressions  \n0                                       N55689-1 N35729-0  \n1       N20678-0 N39317-0 N58114-0 N20495-0 N42977-0 N...  \n2       N50014-0 N23877-0 N35389-0 N49712-0 N16844-0 N...  \n3                     N35729-0 N33632-0 N49685-1 N27581-0  \n4       N39985-0 N36050-0 N16096-0 N8400-1 N22407-0 N6...  \n...                                                   ...  \n156960  N2235-0 N22975-0 N64037-0 N47652-0 N11378-0 N4...  \n156961  N3841-0 N61571-0 N58813-0 N28213-0 N4428-0 N25...  \n156962  N55913-0 N62318-0 N53515-0 N10960-0 N9135-0 N5...  \n156963  N6219-0 N3663-0 N31147-0 N58363-0 N4107-0 N457...  \n156964                N61233-0 N33828-1 N19661-0 N41934-0  \n\n[156965 rows x 3 columns]",
      "text/html": "<div>\n<style scoped>\n    .dataframe tbody tr th:only-of-type {\n        vertical-align: middle;\n    }\n\n    .dataframe tbody tr th {\n        vertical-align: top;\n    }\n\n    .dataframe thead th {\n        text-align: right;\n    }\n</style>\n<table border=\"1\" class=\"dataframe\">\n  <thead>\n    <tr style=\"text-align: right;\">\n      <th></th>\n      <th>user_id</th>\n      <th>history</th>\n      <th>impressions</th>\n    </tr>\n  </thead>\n  <tbody>\n    <tr>\n      <th>0</th>\n      <td>U13740</td>\n      <td>N55189 N42782 N34694 N45794 N18445 N63302 N104...</td>\n      <td>N55689-1 N35729-0</td>\n    </tr>\n    <tr>\n      <th>1</th>\n      <td>U91836</td>\n      <td>N31739 N6072 N63045 N23979 N35656 N43353 N8129...</td>\n      <td>N20678-0 N39317-0 N58114-0 N20495-0 N42977-0 N...</td>\n    </tr>\n    <tr>\n      <th>2</th>\n      <td>U73700</td>\n      <td>N10732 N25792 N7563 N21087 N41087 N5445 N60384...</td>\n      <td>N50014-0 N23877-0 N35389-0 N49712-0 N16844-0 N...</td>\n    </tr>\n    <tr>\n      <th>3</th>\n      <td>U34670</td>\n      <td>N45729 N2203 N871 N53880 N41375 N43142 N33013 ...</td>\n      <td>N35729-0 N33632-0 N49685-1 N27581-0</td>\n    </tr>\n    <tr>\n      <th>4</th>\n      <td>U8125</td>\n      <td>N10078 N56514 N14904 N33740</td>\n      <td>N39985-0 N36050-0 N16096-0 N8400-1 N22407-0 N6...</td>\n    </tr>\n    <tr>\n      <th>...</th>\n      <td>...</td>\n      <td>...</td>\n      <td>...</td>\n    </tr>\n    <tr>\n      <th>156960</th>\n      <td>U21593</td>\n      <td>N7432 N58559 N1954 N43353 N14343 N13008 N28833...</td>\n      <td>N2235-0 N22975-0 N64037-0 N47652-0 N11378-0 N4...</td>\n    </tr>\n    <tr>\n      <th>156961</th>\n      <td>U10123</td>\n      <td>N9803 N104 N24462 N57318 N55743 N40526 N31726 ...</td>\n      <td>N3841-0 N61571-0 N58813-0 N28213-0 N4428-0 N25...</td>\n    </tr>\n    <tr>\n      <th>156962</th>\n      <td>U75630</td>\n      <td>N29898 N59704 N4408 N9803 N53644 N26103 N812 N...</td>\n      <td>N55913-0 N62318-0 N53515-0 N10960-0 N9135-0 N5...</td>\n    </tr>\n    <tr>\n      <th>156963</th>\n      <td>U44625</td>\n      <td>N4118 N47297 N3164 N43295 N6056 N38747 N42973 ...</td>\n      <td>N6219-0 N3663-0 N31147-0 N58363-0 N4107-0 N457...</td>\n    </tr>\n    <tr>\n      <th>156964</th>\n      <td>U64800</td>\n      <td>N22997 N48742</td>\n      <td>N61233-0 N33828-1 N19661-0 N41934-0</td>\n    </tr>\n  </tbody>\n</table>\n<p>156965 rows × 3 columns</p>\n</div>"
     },
     "execution_count": 7,
     "metadata": {},
     "output_type": "execute_result"
    }
   ],
   "source": [
    "behave_df"
   ],
   "metadata": {
    "collapsed": false,
    "pycharm": {
     "name": "#%%\n"
    }
   }
  },
  {
   "cell_type": "code",
   "execution_count": 8,
   "outputs": [
    {
     "name": "stdout",
     "output_type": "stream",
     "text": [
      "156965\n"
     ]
    },
    {
     "data": {
      "text/plain": "50000"
     },
     "execution_count": 8,
     "metadata": {},
     "output_type": "execute_result"
    }
   ],
   "source": [
    "# count unique index\n",
    "print(behave_df.shape[0])\n",
    "len(behave_df['user_id'].unique())"
   ],
   "metadata": {
    "collapsed": false,
    "pycharm": {
     "name": "#%%\n"
    }
   }
  },
  {
   "cell_type": "code",
   "execution_count": 9,
   "outputs": [],
   "source": [
    "behave_df = behave_df.groupby('user_id').agg(sum).reset_index()"
   ],
   "metadata": {
    "collapsed": false,
    "pycharm": {
     "name": "#%%\n"
    }
   }
  },
  {
   "cell_type": "code",
   "execution_count": 10,
   "outputs": [
    {
     "data": {
      "text/plain": "      user_id                                            history  \\\n0        U100  N20121 N33998 N45954 N55743 N50095 N18870 N534...   \n1       U1000  N29641 N1789 N41244N29641 N1789 N41244N29641 N...   \n2      U10001  N47937 N51706 N56447 N61319 N27644 N18030 N272...   \n3      U10003  N39074 N26619 N31431 N1282 N61052 N41668 N5083...   \n4      U10008  N23912 N30148 N46754 N33117 N9619 N36526 N4449...   \n...       ...                                                ...   \n49995   U9993                                      N47458 N14114   \n49996   U9995  N61471 N61704 N49103 N63554 N44399 N32117 N218...   \n49997   U9996  N28296 N4719 N60340 N31165 N8448N28296 N4719 N...   \n49998   U9997  N46759 N46990 N9072 N11727 N50744 N38367 N3333...   \n49999   U9999  N64503 N20039 N447 N10865 N59026 N12972 N25577...   \n\n                                             impressions  \n0      N61235-0 N54489-0 N42597-0 N7800-1 N61408-0 N2...  \n1      N16148-0 N43628-0 N13094-0 N32774-0 N57034-0 N...  \n2      N42860-0 N62750-0 N33025-0 N3167-0 N51975-0 N4...  \n3      N58710-0 N39770-0 N33964-0 N64009-0 N36692-0 N...  \n4      N24272-0 N8016-0 N43595-0 N732-0 N8929-0 N3567...  \n...                                                  ...  \n49995  N28918-0 N53515-0 N34869-0 N37204-0 N15574-0 N...  \n49996  N47098-0 N50872-0 N44698-0 N55943-0 N496-0 N15...  \n49997  N287-1 N64094-0 N51048-0 N39010-0N38779-0 N153...  \n49998  N35273-0 N4510-0 N48410-1 N29170-0 N26262-0 N5...  \n49999  N15224-0 N57651-0 N23184-0 N37533-0 N15931-0 N...  \n\n[50000 rows x 3 columns]",
      "text/html": "<div>\n<style scoped>\n    .dataframe tbody tr th:only-of-type {\n        vertical-align: middle;\n    }\n\n    .dataframe tbody tr th {\n        vertical-align: top;\n    }\n\n    .dataframe thead th {\n        text-align: right;\n    }\n</style>\n<table border=\"1\" class=\"dataframe\">\n  <thead>\n    <tr style=\"text-align: right;\">\n      <th></th>\n      <th>user_id</th>\n      <th>history</th>\n      <th>impressions</th>\n    </tr>\n  </thead>\n  <tbody>\n    <tr>\n      <th>0</th>\n      <td>U100</td>\n      <td>N20121 N33998 N45954 N55743 N50095 N18870 N534...</td>\n      <td>N61235-0 N54489-0 N42597-0 N7800-1 N61408-0 N2...</td>\n    </tr>\n    <tr>\n      <th>1</th>\n      <td>U1000</td>\n      <td>N29641 N1789 N41244N29641 N1789 N41244N29641 N...</td>\n      <td>N16148-0 N43628-0 N13094-0 N32774-0 N57034-0 N...</td>\n    </tr>\n    <tr>\n      <th>2</th>\n      <td>U10001</td>\n      <td>N47937 N51706 N56447 N61319 N27644 N18030 N272...</td>\n      <td>N42860-0 N62750-0 N33025-0 N3167-0 N51975-0 N4...</td>\n    </tr>\n    <tr>\n      <th>3</th>\n      <td>U10003</td>\n      <td>N39074 N26619 N31431 N1282 N61052 N41668 N5083...</td>\n      <td>N58710-0 N39770-0 N33964-0 N64009-0 N36692-0 N...</td>\n    </tr>\n    <tr>\n      <th>4</th>\n      <td>U10008</td>\n      <td>N23912 N30148 N46754 N33117 N9619 N36526 N4449...</td>\n      <td>N24272-0 N8016-0 N43595-0 N732-0 N8929-0 N3567...</td>\n    </tr>\n    <tr>\n      <th>...</th>\n      <td>...</td>\n      <td>...</td>\n      <td>...</td>\n    </tr>\n    <tr>\n      <th>49995</th>\n      <td>U9993</td>\n      <td>N47458 N14114</td>\n      <td>N28918-0 N53515-0 N34869-0 N37204-0 N15574-0 N...</td>\n    </tr>\n    <tr>\n      <th>49996</th>\n      <td>U9995</td>\n      <td>N61471 N61704 N49103 N63554 N44399 N32117 N218...</td>\n      <td>N47098-0 N50872-0 N44698-0 N55943-0 N496-0 N15...</td>\n    </tr>\n    <tr>\n      <th>49997</th>\n      <td>U9996</td>\n      <td>N28296 N4719 N60340 N31165 N8448N28296 N4719 N...</td>\n      <td>N287-1 N64094-0 N51048-0 N39010-0N38779-0 N153...</td>\n    </tr>\n    <tr>\n      <th>49998</th>\n      <td>U9997</td>\n      <td>N46759 N46990 N9072 N11727 N50744 N38367 N3333...</td>\n      <td>N35273-0 N4510-0 N48410-1 N29170-0 N26262-0 N5...</td>\n    </tr>\n    <tr>\n      <th>49999</th>\n      <td>U9999</td>\n      <td>N64503 N20039 N447 N10865 N59026 N12972 N25577...</td>\n      <td>N15224-0 N57651-0 N23184-0 N37533-0 N15931-0 N...</td>\n    </tr>\n  </tbody>\n</table>\n<p>50000 rows × 3 columns</p>\n</div>"
     },
     "execution_count": 10,
     "metadata": {},
     "output_type": "execute_result"
    }
   ],
   "source": [
    "behave_df"
   ],
   "metadata": {
    "collapsed": false,
    "pycharm": {
     "name": "#%%\n"
    }
   }
  },
  {
   "cell_type": "code",
   "execution_count": 11,
   "outputs": [
    {
     "name": "stdout",
     "output_type": "stream",
     "text": [
      "number of empty history users:  892\n"
     ]
    }
   ],
   "source": [
    "# print number of emprt history\n",
    "print('number of empty history users: ', behave_df.loc[behave_df['history'] == 0].shape[0])\n",
    "# behave_df['history'] = behave_df['history'].replace(0, '')\n",
    "# convert history to list\n",
    "# behave_df['history'] = behave_df['history'].apply(lambda x: x.split(' '))"
   ],
   "metadata": {
    "collapsed": false,
    "pycharm": {
     "name": "#%%\n"
    }
   }
  },
  {
   "cell_type": "code",
   "execution_count": 12,
   "outputs": [
    {
     "name": "stdout",
     "output_type": "stream",
     "text": [
      "number of empty impressions users:  0\n"
     ]
    }
   ],
   "source": [
    "# print number of emprt history\n",
    "print('number of empty impressions users: ', behave_df.loc[behave_df['impressions'] == 0].shape[0])\n",
    "behave_df['impressions'] = behave_df['impressions'].replace(0, '')\n",
    "# convert history to list\n",
    "behave_df['impressions'] = behave_df['impressions'].apply(lambda x: x.split(' '))"
   ],
   "metadata": {
    "collapsed": false,
    "pycharm": {
     "name": "#%%\n"
    }
   }
  },
  {
   "cell_type": "code",
   "execution_count": 13,
   "outputs": [
    {
     "data": {
      "text/plain": "      user_id                                            history  \\\n0        U100  N20121 N33998 N45954 N55743 N50095 N18870 N534...   \n1       U1000  N29641 N1789 N41244N29641 N1789 N41244N29641 N...   \n2      U10001  N47937 N51706 N56447 N61319 N27644 N18030 N272...   \n3      U10003  N39074 N26619 N31431 N1282 N61052 N41668 N5083...   \n4      U10008  N23912 N30148 N46754 N33117 N9619 N36526 N4449...   \n...       ...                                                ...   \n49995   U9993                                      N47458 N14114   \n49996   U9995  N61471 N61704 N49103 N63554 N44399 N32117 N218...   \n49997   U9996  N28296 N4719 N60340 N31165 N8448N28296 N4719 N...   \n49998   U9997  N46759 N46990 N9072 N11727 N50744 N38367 N3333...   \n49999   U9999  N64503 N20039 N447 N10865 N59026 N12972 N25577...   \n\n                                             impressions  \n0      [N61235-0, N54489-0, N42597-0, N7800-1, N61408...  \n1      [N16148-0, N43628-0, N13094-0, N32774-0, N5703...  \n2      [N42860-0, N62750-0, N33025-0, N3167-0, N51975...  \n3      [N58710-0, N39770-0, N33964-0, N64009-0, N3669...  \n4      [N24272-0, N8016-0, N43595-0, N732-0, N8929-0,...  \n...                                                  ...  \n49995  [N28918-0, N53515-0, N34869-0, N37204-0, N1557...  \n49996  [N47098-0, N50872-0, N44698-0, N55943-0, N496-...  \n49997  [N287-1, N64094-0, N51048-0, N39010-0N38779-0,...  \n49998  [N35273-0, N4510-0, N48410-1, N29170-0, N26262...  \n49999  [N15224-0, N57651-0, N23184-0, N37533-0, N1593...  \n\n[50000 rows x 3 columns]",
      "text/html": "<div>\n<style scoped>\n    .dataframe tbody tr th:only-of-type {\n        vertical-align: middle;\n    }\n\n    .dataframe tbody tr th {\n        vertical-align: top;\n    }\n\n    .dataframe thead th {\n        text-align: right;\n    }\n</style>\n<table border=\"1\" class=\"dataframe\">\n  <thead>\n    <tr style=\"text-align: right;\">\n      <th></th>\n      <th>user_id</th>\n      <th>history</th>\n      <th>impressions</th>\n    </tr>\n  </thead>\n  <tbody>\n    <tr>\n      <th>0</th>\n      <td>U100</td>\n      <td>N20121 N33998 N45954 N55743 N50095 N18870 N534...</td>\n      <td>[N61235-0, N54489-0, N42597-0, N7800-1, N61408...</td>\n    </tr>\n    <tr>\n      <th>1</th>\n      <td>U1000</td>\n      <td>N29641 N1789 N41244N29641 N1789 N41244N29641 N...</td>\n      <td>[N16148-0, N43628-0, N13094-0, N32774-0, N5703...</td>\n    </tr>\n    <tr>\n      <th>2</th>\n      <td>U10001</td>\n      <td>N47937 N51706 N56447 N61319 N27644 N18030 N272...</td>\n      <td>[N42860-0, N62750-0, N33025-0, N3167-0, N51975...</td>\n    </tr>\n    <tr>\n      <th>3</th>\n      <td>U10003</td>\n      <td>N39074 N26619 N31431 N1282 N61052 N41668 N5083...</td>\n      <td>[N58710-0, N39770-0, N33964-0, N64009-0, N3669...</td>\n    </tr>\n    <tr>\n      <th>4</th>\n      <td>U10008</td>\n      <td>N23912 N30148 N46754 N33117 N9619 N36526 N4449...</td>\n      <td>[N24272-0, N8016-0, N43595-0, N732-0, N8929-0,...</td>\n    </tr>\n    <tr>\n      <th>...</th>\n      <td>...</td>\n      <td>...</td>\n      <td>...</td>\n    </tr>\n    <tr>\n      <th>49995</th>\n      <td>U9993</td>\n      <td>N47458 N14114</td>\n      <td>[N28918-0, N53515-0, N34869-0, N37204-0, N1557...</td>\n    </tr>\n    <tr>\n      <th>49996</th>\n      <td>U9995</td>\n      <td>N61471 N61704 N49103 N63554 N44399 N32117 N218...</td>\n      <td>[N47098-0, N50872-0, N44698-0, N55943-0, N496-...</td>\n    </tr>\n    <tr>\n      <th>49997</th>\n      <td>U9996</td>\n      <td>N28296 N4719 N60340 N31165 N8448N28296 N4719 N...</td>\n      <td>[N287-1, N64094-0, N51048-0, N39010-0N38779-0,...</td>\n    </tr>\n    <tr>\n      <th>49998</th>\n      <td>U9997</td>\n      <td>N46759 N46990 N9072 N11727 N50744 N38367 N3333...</td>\n      <td>[N35273-0, N4510-0, N48410-1, N29170-0, N26262...</td>\n    </tr>\n    <tr>\n      <th>49999</th>\n      <td>U9999</td>\n      <td>N64503 N20039 N447 N10865 N59026 N12972 N25577...</td>\n      <td>[N15224-0, N57651-0, N23184-0, N37533-0, N1593...</td>\n    </tr>\n  </tbody>\n</table>\n<p>50000 rows × 3 columns</p>\n</div>"
     },
     "execution_count": 13,
     "metadata": {},
     "output_type": "execute_result"
    }
   ],
   "source": [
    "behave_df"
   ],
   "metadata": {
    "collapsed": false,
    "pycharm": {
     "name": "#%%\n"
    }
   }
  },
  {
   "cell_type": "code",
   "execution_count": 14,
   "outputs": [],
   "source": [
    "res = behave_df.explode('impressions')"
   ],
   "metadata": {
    "collapsed": false,
    "pycharm": {
     "name": "#%%\n"
    }
   }
  },
  {
   "cell_type": "code",
   "execution_count": 15,
   "outputs": [],
   "source": [
    "# add a column for res contiaining the last char of the impressions\n",
    "res['label'] = res['impressions'].apply(lambda x: x[-1])"
   ],
   "metadata": {
    "collapsed": false,
    "pycharm": {
     "name": "#%%\n"
    }
   }
  },
  {
   "cell_type": "code",
   "execution_count": 16,
   "outputs": [],
   "source": [
    "# strip the 2 last char of the impressions\n",
    "res['impressions'] = res['impressions'].apply(lambda x: x[:-2])"
   ],
   "metadata": {
    "collapsed": false,
    "pycharm": {
     "name": "#%%\n"
    }
   }
  },
  {
   "cell_type": "code",
   "execution_count": 17,
   "outputs": [
    {
     "data": {
      "text/plain": "      user_id                                            history impressions  \\\n0        U100  N20121 N33998 N45954 N55743 N50095 N18870 N534...      N61235   \n0        U100  N20121 N33998 N45954 N55743 N50095 N18870 N534...      N54489   \n0        U100  N20121 N33998 N45954 N55743 N50095 N18870 N534...      N42597   \n0        U100  N20121 N33998 N45954 N55743 N50095 N18870 N534...       N7800   \n0        U100  N20121 N33998 N45954 N55743 N50095 N18870 N534...      N61408   \n...       ...                                                ...         ...   \n49999   U9999  N64503 N20039 N447 N10865 N59026 N12972 N25577...      N41224   \n49999   U9999  N64503 N20039 N447 N10865 N59026 N12972 N25577...      N27349   \n49999   U9999  N64503 N20039 N447 N10865 N59026 N12972 N25577...      N61022   \n49999   U9999  N64503 N20039 N447 N10865 N59026 N12972 N25577...      N11830   \n49999   U9999  N64503 N20039 N447 N10865 N59026 N12972 N25577...      N29341   \n\n      label  \n0         0  \n0         0  \n0         0  \n0         1  \n0         0  \n...     ...  \n49999     0  \n49999     0  \n49999     1  \n49999     0  \n49999     0  \n\n[5736479 rows x 4 columns]",
      "text/html": "<div>\n<style scoped>\n    .dataframe tbody tr th:only-of-type {\n        vertical-align: middle;\n    }\n\n    .dataframe tbody tr th {\n        vertical-align: top;\n    }\n\n    .dataframe thead th {\n        text-align: right;\n    }\n</style>\n<table border=\"1\" class=\"dataframe\">\n  <thead>\n    <tr style=\"text-align: right;\">\n      <th></th>\n      <th>user_id</th>\n      <th>history</th>\n      <th>impressions</th>\n      <th>label</th>\n    </tr>\n  </thead>\n  <tbody>\n    <tr>\n      <th>0</th>\n      <td>U100</td>\n      <td>N20121 N33998 N45954 N55743 N50095 N18870 N534...</td>\n      <td>N61235</td>\n      <td>0</td>\n    </tr>\n    <tr>\n      <th>0</th>\n      <td>U100</td>\n      <td>N20121 N33998 N45954 N55743 N50095 N18870 N534...</td>\n      <td>N54489</td>\n      <td>0</td>\n    </tr>\n    <tr>\n      <th>0</th>\n      <td>U100</td>\n      <td>N20121 N33998 N45954 N55743 N50095 N18870 N534...</td>\n      <td>N42597</td>\n      <td>0</td>\n    </tr>\n    <tr>\n      <th>0</th>\n      <td>U100</td>\n      <td>N20121 N33998 N45954 N55743 N50095 N18870 N534...</td>\n      <td>N7800</td>\n      <td>1</td>\n    </tr>\n    <tr>\n      <th>0</th>\n      <td>U100</td>\n      <td>N20121 N33998 N45954 N55743 N50095 N18870 N534...</td>\n      <td>N61408</td>\n      <td>0</td>\n    </tr>\n    <tr>\n      <th>...</th>\n      <td>...</td>\n      <td>...</td>\n      <td>...</td>\n      <td>...</td>\n    </tr>\n    <tr>\n      <th>49999</th>\n      <td>U9999</td>\n      <td>N64503 N20039 N447 N10865 N59026 N12972 N25577...</td>\n      <td>N41224</td>\n      <td>0</td>\n    </tr>\n    <tr>\n      <th>49999</th>\n      <td>U9999</td>\n      <td>N64503 N20039 N447 N10865 N59026 N12972 N25577...</td>\n      <td>N27349</td>\n      <td>0</td>\n    </tr>\n    <tr>\n      <th>49999</th>\n      <td>U9999</td>\n      <td>N64503 N20039 N447 N10865 N59026 N12972 N25577...</td>\n      <td>N61022</td>\n      <td>1</td>\n    </tr>\n    <tr>\n      <th>49999</th>\n      <td>U9999</td>\n      <td>N64503 N20039 N447 N10865 N59026 N12972 N25577...</td>\n      <td>N11830</td>\n      <td>0</td>\n    </tr>\n    <tr>\n      <th>49999</th>\n      <td>U9999</td>\n      <td>N64503 N20039 N447 N10865 N59026 N12972 N25577...</td>\n      <td>N29341</td>\n      <td>0</td>\n    </tr>\n  </tbody>\n</table>\n<p>5736479 rows × 4 columns</p>\n</div>"
     },
     "execution_count": 17,
     "metadata": {},
     "output_type": "execute_result"
    }
   ],
   "source": [
    "res"
   ],
   "metadata": {
    "collapsed": false,
    "pycharm": {
     "name": "#%%\n"
    }
   }
  },
  {
   "cell_type": "code",
   "execution_count": 18,
   "outputs": [
    {
     "data": {
      "text/plain": "745756"
     },
     "execution_count": 18,
     "metadata": {},
     "output_type": "execute_result"
    }
   ],
   "source": [
    "# find duplicate rows in res\n",
    "res.duplicated().sum()"
   ],
   "metadata": {
    "collapsed": false,
    "pycharm": {
     "name": "#%%\n"
    }
   }
  },
  {
   "cell_type": "code",
   "execution_count": 19,
   "outputs": [],
   "source": [
    "# remove duplicate rows\n",
    "res.drop_duplicates(inplace=True)"
   ],
   "metadata": {
    "collapsed": false,
    "pycharm": {
     "name": "#%%\n"
    }
   }
  },
  {
   "cell_type": "code",
   "execution_count": 20,
   "outputs": [
    {
     "data": {
      "text/plain": "      user_id                                            history impressions  \\\n0        U100  N20121 N33998 N45954 N55743 N50095 N18870 N534...      N61235   \n0        U100  N20121 N33998 N45954 N55743 N50095 N18870 N534...      N54489   \n0        U100  N20121 N33998 N45954 N55743 N50095 N18870 N534...      N42597   \n0        U100  N20121 N33998 N45954 N55743 N50095 N18870 N534...       N7800   \n0        U100  N20121 N33998 N45954 N55743 N50095 N18870 N534...      N61408   \n...       ...                                                ...         ...   \n49999   U9999  N64503 N20039 N447 N10865 N59026 N12972 N25577...      N41224   \n49999   U9999  N64503 N20039 N447 N10865 N59026 N12972 N25577...      N27349   \n49999   U9999  N64503 N20039 N447 N10865 N59026 N12972 N25577...      N61022   \n49999   U9999  N64503 N20039 N447 N10865 N59026 N12972 N25577...      N11830   \n49999   U9999  N64503 N20039 N447 N10865 N59026 N12972 N25577...      N29341   \n\n      label  \n0         0  \n0         0  \n0         0  \n0         1  \n0         0  \n...     ...  \n49999     0  \n49999     0  \n49999     1  \n49999     0  \n49999     0  \n\n[4990723 rows x 4 columns]",
      "text/html": "<div>\n<style scoped>\n    .dataframe tbody tr th:only-of-type {\n        vertical-align: middle;\n    }\n\n    .dataframe tbody tr th {\n        vertical-align: top;\n    }\n\n    .dataframe thead th {\n        text-align: right;\n    }\n</style>\n<table border=\"1\" class=\"dataframe\">\n  <thead>\n    <tr style=\"text-align: right;\">\n      <th></th>\n      <th>user_id</th>\n      <th>history</th>\n      <th>impressions</th>\n      <th>label</th>\n    </tr>\n  </thead>\n  <tbody>\n    <tr>\n      <th>0</th>\n      <td>U100</td>\n      <td>N20121 N33998 N45954 N55743 N50095 N18870 N534...</td>\n      <td>N61235</td>\n      <td>0</td>\n    </tr>\n    <tr>\n      <th>0</th>\n      <td>U100</td>\n      <td>N20121 N33998 N45954 N55743 N50095 N18870 N534...</td>\n      <td>N54489</td>\n      <td>0</td>\n    </tr>\n    <tr>\n      <th>0</th>\n      <td>U100</td>\n      <td>N20121 N33998 N45954 N55743 N50095 N18870 N534...</td>\n      <td>N42597</td>\n      <td>0</td>\n    </tr>\n    <tr>\n      <th>0</th>\n      <td>U100</td>\n      <td>N20121 N33998 N45954 N55743 N50095 N18870 N534...</td>\n      <td>N7800</td>\n      <td>1</td>\n    </tr>\n    <tr>\n      <th>0</th>\n      <td>U100</td>\n      <td>N20121 N33998 N45954 N55743 N50095 N18870 N534...</td>\n      <td>N61408</td>\n      <td>0</td>\n    </tr>\n    <tr>\n      <th>...</th>\n      <td>...</td>\n      <td>...</td>\n      <td>...</td>\n      <td>...</td>\n    </tr>\n    <tr>\n      <th>49999</th>\n      <td>U9999</td>\n      <td>N64503 N20039 N447 N10865 N59026 N12972 N25577...</td>\n      <td>N41224</td>\n      <td>0</td>\n    </tr>\n    <tr>\n      <th>49999</th>\n      <td>U9999</td>\n      <td>N64503 N20039 N447 N10865 N59026 N12972 N25577...</td>\n      <td>N27349</td>\n      <td>0</td>\n    </tr>\n    <tr>\n      <th>49999</th>\n      <td>U9999</td>\n      <td>N64503 N20039 N447 N10865 N59026 N12972 N25577...</td>\n      <td>N61022</td>\n      <td>1</td>\n    </tr>\n    <tr>\n      <th>49999</th>\n      <td>U9999</td>\n      <td>N64503 N20039 N447 N10865 N59026 N12972 N25577...</td>\n      <td>N11830</td>\n      <td>0</td>\n    </tr>\n    <tr>\n      <th>49999</th>\n      <td>U9999</td>\n      <td>N64503 N20039 N447 N10865 N59026 N12972 N25577...</td>\n      <td>N29341</td>\n      <td>0</td>\n    </tr>\n  </tbody>\n</table>\n<p>4990723 rows × 4 columns</p>\n</div>"
     },
     "execution_count": 20,
     "metadata": {},
     "output_type": "execute_result"
    }
   ],
   "source": [
    "res"
   ],
   "metadata": {
    "collapsed": false,
    "pycharm": {
     "name": "#%%\n"
    }
   }
  }
 ],
 "metadata": {
  "kernelspec": {
   "display_name": "Python 3 (ipykernel)",
   "language": "python",
   "name": "python3"
  },
  "language_info": {
   "codemirror_mode": {
    "name": "ipython",
    "version": 3
   },
   "file_extension": ".py",
   "mimetype": "text/x-python",
   "name": "python",
   "nbconvert_exporter": "python",
   "pygments_lexer": "ipython3",
   "version": "3.7.6"
  }
 },
 "nbformat": 4,
 "nbformat_minor": 1
}