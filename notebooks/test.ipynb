{
 "cells": [
  {
   "cell_type": "code",
   "execution_count": 2,
   "metadata": {
    "collapsed": true,
    "pycharm": {
     "name": "#%%\n"
    }
   },
   "outputs": [],
   "source": [
    "from mind import *\n",
    "import pandas as pd\n",
    "import numpy as np"
   ]
  },
  {
   "cell_type": "code",
   "execution_count": 4,
   "outputs": [],
   "source": [
    "mind_parameters = dict(data_type='train')"
   ],
   "metadata": {
    "collapsed": false,
    "pycharm": {
     "name": "#%%\n"
    }
   }
  },
  {
   "cell_type": "code",
   "execution_count": 6,
   "outputs": [
    {
     "name": "stdout",
     "output_type": "stream",
     "text": [
      "\u001B[32mSaved file founded, loading pickle file...\u001B[0m\n",
      "\u001B[32mDone Loading and saving: Mind MIND_Class_Data_tpye_train_size_5723002.pkl\u001B[0m\n"
     ]
    }
   ],
   "source": [
    "train = load_mind(params=mind_parameters, filename=None)"
   ],
   "metadata": {
    "collapsed": false,
    "pycharm": {
     "name": "#%%\n"
    }
   }
  },
  {
   "cell_type": "code",
   "execution_count": 8,
   "outputs": [
    {
     "data": {
      "text/plain": "  user_id                                            history impressions\n0    U100  [N55743, N18870, N42330, N45954, N33998, N5009...      N61235\n1    U100  [N55743, N18870, N42330, N45954, N33998, N5009...      N54489\n2    U100  [N55743, N18870, N42330, N45954, N33998, N5009...      N42597\n3    U100  [N55743, N18870, N42330, N45954, N33998, N5009...       N7800\n4    U100  [N55743, N18870, N42330, N45954, N33998, N5009...      N61408",
      "text/html": "<div>\n<style scoped>\n    .dataframe tbody tr th:only-of-type {\n        vertical-align: middle;\n    }\n\n    .dataframe tbody tr th {\n        vertical-align: top;\n    }\n\n    .dataframe thead th {\n        text-align: right;\n    }\n</style>\n<table border=\"1\" class=\"dataframe\">\n  <thead>\n    <tr style=\"text-align: right;\">\n      <th></th>\n      <th>user_id</th>\n      <th>history</th>\n      <th>impressions</th>\n    </tr>\n  </thead>\n  <tbody>\n    <tr>\n      <th>0</th>\n      <td>U100</td>\n      <td>[N55743, N18870, N42330, N45954, N33998, N5009...</td>\n      <td>N61235</td>\n    </tr>\n    <tr>\n      <th>1</th>\n      <td>U100</td>\n      <td>[N55743, N18870, N42330, N45954, N33998, N5009...</td>\n      <td>N54489</td>\n    </tr>\n    <tr>\n      <th>2</th>\n      <td>U100</td>\n      <td>[N55743, N18870, N42330, N45954, N33998, N5009...</td>\n      <td>N42597</td>\n    </tr>\n    <tr>\n      <th>3</th>\n      <td>U100</td>\n      <td>[N55743, N18870, N42330, N45954, N33998, N5009...</td>\n      <td>N7800</td>\n    </tr>\n    <tr>\n      <th>4</th>\n      <td>U100</td>\n      <td>[N55743, N18870, N42330, N45954, N33998, N5009...</td>\n      <td>N61408</td>\n    </tr>\n  </tbody>\n</table>\n</div>"
     },
     "execution_count": 8,
     "metadata": {},
     "output_type": "execute_result"
    }
   ],
   "source": [
    "train.behave.head()"
   ],
   "metadata": {
    "collapsed": false,
    "pycharm": {
     "name": "#%%\n"
    }
   }
  }
 ],
 "metadata": {
  "kernelspec": {
   "display_name": "Python 3",
   "language": "python",
   "name": "python3"
  },
  "language_info": {
   "codemirror_mode": {
    "name": "ipython",
    "version": 2
   },
   "file_extension": ".py",
   "mimetype": "text/x-python",
   "name": "python",
   "nbconvert_exporter": "python",
   "pygments_lexer": "ipython2",
   "version": "2.7.6"
  }
 },
 "nbformat": 4,
 "nbformat_minor": 0
}