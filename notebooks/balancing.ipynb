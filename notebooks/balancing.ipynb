{
 "cells": [
  {
   "cell_type": "code",
   "execution_count": 2,
   "metadata": {
    "collapsed": true
   },
   "outputs": [],
   "source": [
    "from utils.load_preprocess import *\n",
    "import matplotlib.pyplot as plt\n",
    "from imblearn.under_sampling import RandomUnderSampler"
   ]
  },
  {
   "cell_type": "code",
   "execution_count": 3,
   "outputs": [],
   "source": [
    "news =load_news()\n",
    "x, y = load_behave(undersample=False)"
   ],
   "metadata": {
    "collapsed": false,
    "pycharm": {
     "name": "#%%\n"
    }
   }
  },
  {
   "cell_type": "code",
   "execution_count": 6,
   "outputs": [
    {
     "data": {
      "text/plain": "        user_id                                            history impressions\n0          U100  [N20121, N50095, N53465, N45954, N55743, N5170...      N61235\n1          U100  [N20121, N50095, N53465, N45954, N55743, N5170...      N54489\n2          U100  [N20121, N50095, N53465, N45954, N55743, N5170...      N42597\n3          U100  [N20121, N50095, N53465, N45954, N55743, N5170...       N7800\n4          U100  [N20121, N50095, N53465, N45954, N55743, N5170...      N61408\n...         ...                                                ...         ...\n5736474   U9999  [N56753, N64503, N59026, N20039, N54327, N4486...      N41224\n5736475   U9999  [N56753, N64503, N59026, N20039, N54327, N4486...      N27349\n5736476   U9999  [N56753, N64503, N59026, N20039, N54327, N4486...      N61022\n5736477   U9999  [N56753, N64503, N59026, N20039, N54327, N4486...      N11830\n5736478   U9999  [N56753, N64503, N59026, N20039, N54327, N4486...      N29341\n\n[5736479 rows x 3 columns]",
      "text/html": "<div>\n<style scoped>\n    .dataframe tbody tr th:only-of-type {\n        vertical-align: middle;\n    }\n\n    .dataframe tbody tr th {\n        vertical-align: top;\n    }\n\n    .dataframe thead th {\n        text-align: right;\n    }\n</style>\n<table border=\"1\" class=\"dataframe\">\n  <thead>\n    <tr style=\"text-align: right;\">\n      <th></th>\n      <th>user_id</th>\n      <th>history</th>\n      <th>impressions</th>\n    </tr>\n  </thead>\n  <tbody>\n    <tr>\n      <th>0</th>\n      <td>U100</td>\n      <td>[N20121, N50095, N53465, N45954, N55743, N5170...</td>\n      <td>N61235</td>\n    </tr>\n    <tr>\n      <th>1</th>\n      <td>U100</td>\n      <td>[N20121, N50095, N53465, N45954, N55743, N5170...</td>\n      <td>N54489</td>\n    </tr>\n    <tr>\n      <th>2</th>\n      <td>U100</td>\n      <td>[N20121, N50095, N53465, N45954, N55743, N5170...</td>\n      <td>N42597</td>\n    </tr>\n    <tr>\n      <th>3</th>\n      <td>U100</td>\n      <td>[N20121, N50095, N53465, N45954, N55743, N5170...</td>\n      <td>N7800</td>\n    </tr>\n    <tr>\n      <th>4</th>\n      <td>U100</td>\n      <td>[N20121, N50095, N53465, N45954, N55743, N5170...</td>\n      <td>N61408</td>\n    </tr>\n    <tr>\n      <th>...</th>\n      <td>...</td>\n      <td>...</td>\n      <td>...</td>\n    </tr>\n    <tr>\n      <th>5736474</th>\n      <td>U9999</td>\n      <td>[N56753, N64503, N59026, N20039, N54327, N4486...</td>\n      <td>N41224</td>\n    </tr>\n    <tr>\n      <th>5736475</th>\n      <td>U9999</td>\n      <td>[N56753, N64503, N59026, N20039, N54327, N4486...</td>\n      <td>N27349</td>\n    </tr>\n    <tr>\n      <th>5736476</th>\n      <td>U9999</td>\n      <td>[N56753, N64503, N59026, N20039, N54327, N4486...</td>\n      <td>N61022</td>\n    </tr>\n    <tr>\n      <th>5736477</th>\n      <td>U9999</td>\n      <td>[N56753, N64503, N59026, N20039, N54327, N4486...</td>\n      <td>N11830</td>\n    </tr>\n    <tr>\n      <th>5736478</th>\n      <td>U9999</td>\n      <td>[N56753, N64503, N59026, N20039, N54327, N4486...</td>\n      <td>N29341</td>\n    </tr>\n  </tbody>\n</table>\n<p>5736479 rows × 3 columns</p>\n</div>"
     },
     "execution_count": 6,
     "metadata": {},
     "output_type": "execute_result"
    }
   ],
   "source": [
    "x"
   ],
   "metadata": {
    "collapsed": false,
    "pycharm": {
     "name": "#%%\n"
    }
   }
  },
  {
   "cell_type": "code",
   "execution_count": 7,
   "outputs": [
    {
     "data": {
      "text/plain": "0          0\n1          0\n2          0\n3          1\n4          0\n          ..\n5736474    0\n5736475    0\n5736476    1\n5736477    0\n5736478    0\nName: label, Length: 5736479, dtype: object"
     },
     "execution_count": 7,
     "metadata": {},
     "output_type": "execute_result"
    }
   ],
   "source": [
    "y"
   ],
   "metadata": {
    "collapsed": false,
    "pycharm": {
     "name": "#%%\n"
    }
   }
  },
  {
   "cell_type": "code",
   "execution_count": 5,
   "outputs": [
    {
     "data": {
      "text/plain": "<Figure size 720x360 with 1 Axes>",
      "image/png": "[encoded data removed]"
     },
     "metadata": {
      "needs_background": "light"
     },
     "output_type": "display_data"
    }
   ],
   "source": [
    "# plot bar chart of number of res label\n",
    "y.value_counts().plot(kind='bar', title='Count of res labels', figsize=(10, 5), legend=True, fontsize=12)\n",
    "\n",
    "# add count of res label to the plot\n",
    "plt.text(0.5, 0.5, 'Count of res labels: \\n{}'.format(y.value_counts()),\n",
    "         horizontalalignment='left',\n",
    "         verticalalignment='center',\n",
    "         fontsize=12,\n",
    "         transform=plt.gcf().transFigure)\n",
    "plt.show()"
   ],
   "metadata": {
    "collapsed": false,
    "pycharm": {
     "name": "#%%\n"
    }
   }
  },
  {
   "cell_type": "code",
   "execution_count": 8,
   "outputs": [],
   "source": [
    "undersample = RandomUnderSampler(sampling_strategy='majority')"
   ],
   "metadata": {
    "collapsed": false,
    "pycharm": {
     "name": "#%%\n"
    }
   }
  },
  {
   "cell_type": "code",
   "execution_count": 11,
   "outputs": [
    {
     "data": {
      "text/plain": "(5736479, 3)"
     },
     "execution_count": 11,
     "metadata": {},
     "output_type": "execute_result"
    }
   ],
   "source": [
    "x.shape"
   ],
   "metadata": {
    "collapsed": false,
    "pycharm": {
     "name": "#%%\n"
    }
   }
  },
  {
   "cell_type": "code",
   "execution_count": 9,
   "outputs": [],
   "source": [
    "x_train, y_train = undersample.fit_resample(x, y)"
   ],
   "metadata": {
    "collapsed": false,
    "pycharm": {
     "name": "#%%\n"
    }
   }
  },
  {
   "cell_type": "code",
   "execution_count": 10,
   "outputs": [
    {
     "data": {
      "text/plain": "(450120, 3)"
     },
     "execution_count": 10,
     "metadata": {},
     "output_type": "execute_result"
    }
   ],
   "source": [
    "x_train.shape"
   ],
   "metadata": {
    "collapsed": false,
    "pycharm": {
     "name": "#%%\n"
    }
   }
  },
  {
   "cell_type": "code",
   "execution_count": 12,
   "outputs": [
    {
     "data": {
      "text/plain": "<Figure size 720x360 with 1 Axes>",
      "image/png": "[encoded data removed]"
     },
     "metadata": {
      "needs_background": "light"
     },
     "output_type": "display_data"
    }
   ],
   "source": [
    "# plot bar chart of number of res label\n",
    "y_train.value_counts().plot(kind='bar', title='Count of res labels', figsize=(10, 5), legend=True, fontsize=12)\n",
    "\n",
    "# add count of res label to the plot\n",
    "plt.text(0.5, 0.5, 'Count of res labels: \\n{}'.format(y_train.value_counts()),\n",
    "         horizontalalignment='left',\n",
    "         verticalalignment='center',\n",
    "         fontsize=12,\n",
    "         transform=plt.gcf().transFigure)\n",
    "plt.show()"
   ],
   "metadata": {
    "collapsed": false,
    "pycharm": {
     "name": "#%%\n"
    }
   }
  },
  {
   "cell_type": "code",
   "execution_count": 3,
   "outputs": [
    {
     "data": {
      "text/plain": "          category        subcategory  \\\nnews_id                                 \nN55528   lifestyle    lifestyleroyals   \nN19639      health         weightloss   \nN61837        news          newsworld   \nN53526      health             voices   \nN38324      health            medical   \n...            ...                ...   \nN16909     weather  weathertopstories   \nN47585   lifestyle    lifestylefamily   \nN7482       sports        more_sports   \nN34418      sports         soccer_epl   \nN44276       autos        autossports   \n\n                                                     title  \\\nnews_id                                                      \nN55528   The Brands Queen Elizabeth, Prince Charles, an...   \nN19639                       50 Worst Habits For Belly Fat   \nN61837   The Cost of Trump's Aid Freeze in the Trenches...   \nN53526   I Was An NBA Wife. Here's How It Affected My M...   \nN38324   How to Get Rid of Skin Tags, According to a De...   \n...                                                    ...   \nN16909   Adapting, Learning And Soul Searching: Reflect...   \nN47585   Family says 13-year-old Broadway star died fro...   \nN7482    St. Dominic soccer player tries to kick cancer...   \nN34418                        How the Sounders won MLS Cup   \nN44276                   Best Sports Car Deals for October   \n\n                                                  abstract  \nnews_id                                                     \nN55528   Shop the notebooks, jackets, and more that the...  \nN19639   These seemingly harmless habits are holding yo...  \nN61837   Lt. Ivan Molchanets peeked over a parapet of s...  \nN53526   I felt like I was a fraud, and being an NBA wi...  \nN38324   They seem harmless, but there's a very good re...  \n...                                                    ...  \nN16909   Woolsey Fire Anniversary: A community is forev...  \nN47585                                                 NaN  \nN7482    Sometimes, what happens on the sidelines can b...  \nN34418   Mark, Jeremiah and Casey were so excited they ...  \nN44276                                                 NaN  \n\n[51282 rows x 4 columns]",
      "text/html": "<div>\n<style scoped>\n    .dataframe tbody tr th:only-of-type {\n        vertical-align: middle;\n    }\n\n    .dataframe tbody tr th {\n        vertical-align: top;\n    }\n\n    .dataframe thead th {\n        text-align: right;\n    }\n</style>\n<table border=\"1\" class=\"dataframe\">\n  <thead>\n    <tr style=\"text-align: right;\">\n      <th></th>\n      <th>category</th>\n      <th>subcategory</th>\n      <th>title</th>\n      <th>abstract</th>\n    </tr>\n    <tr>\n      <th>news_id</th>\n      <th></th>\n      <th></th>\n      <th></th>\n      <th></th>\n    </tr>\n  </thead>\n  <tbody>\n    <tr>\n      <th>N55528</th>\n      <td>lifestyle</td>\n      <td>lifestyleroyals</td>\n      <td>The Brands Queen Elizabeth, Prince Charles, an...</td>\n      <td>Shop the notebooks, jackets, and more that the...</td>\n    </tr>\n    <tr>\n      <th>N19639</th>\n      <td>health</td>\n      <td>weightloss</td>\n      <td>50 Worst Habits For Belly Fat</td>\n      <td>These seemingly harmless habits are holding yo...</td>\n    </tr>\n    <tr>\n      <th>N61837</th>\n      <td>news</td>\n      <td>newsworld</td>\n      <td>The Cost of Trump's Aid Freeze in the Trenches...</td>\n      <td>Lt. Ivan Molchanets peeked over a parapet of s...</td>\n    </tr>\n    <tr>\n      <th>N53526</th>\n      <td>health</td>\n      <td>voices</td>\n      <td>I Was An NBA Wife. Here's How It Affected My M...</td>\n      <td>I felt like I was a fraud, and being an NBA wi...</td>\n    </tr>\n    <tr>\n      <th>N38324</th>\n      <td>health</td>\n      <td>medical</td>\n      <td>How to Get Rid of Skin Tags, According to a De...</td>\n      <td>They seem harmless, but there's a very good re...</td>\n    </tr>\n    <tr>\n      <th>...</th>\n      <td>...</td>\n      <td>...</td>\n      <td>...</td>\n      <td>...</td>\n    </tr>\n    <tr>\n      <th>N16909</th>\n      <td>weather</td>\n      <td>weathertopstories</td>\n      <td>Adapting, Learning And Soul Searching: Reflect...</td>\n      <td>Woolsey Fire Anniversary: A community is forev...</td>\n    </tr>\n    <tr>\n      <th>N47585</th>\n      <td>lifestyle</td>\n      <td>lifestylefamily</td>\n      <td>Family says 13-year-old Broadway star died fro...</td>\n      <td>NaN</td>\n    </tr>\n    <tr>\n      <th>N7482</th>\n      <td>sports</td>\n      <td>more_sports</td>\n      <td>St. Dominic soccer player tries to kick cancer...</td>\n      <td>Sometimes, what happens on the sidelines can b...</td>\n    </tr>\n    <tr>\n      <th>N34418</th>\n      <td>sports</td>\n      <td>soccer_epl</td>\n      <td>How the Sounders won MLS Cup</td>\n      <td>Mark, Jeremiah and Casey were so excited they ...</td>\n    </tr>\n    <tr>\n      <th>N44276</th>\n      <td>autos</td>\n      <td>autossports</td>\n      <td>Best Sports Car Deals for October</td>\n      <td>NaN</td>\n    </tr>\n  </tbody>\n</table>\n<p>51282 rows × 4 columns</p>\n</div>"
     },
     "execution_count": 3,
     "metadata": {},
     "output_type": "execute_result"
    }
   ],
   "source": [
    "news = load_news()\n",
    "news"
   ],
   "metadata": {
    "collapsed": false,
    "pycharm": {
     "name": "#%%\n"
    }
   }
  }
 ],
 "metadata": {
  "kernelspec": {
   "display_name": "Python 3",
   "language": "python",
   "name": "python3"
  },
  "language_info": {
   "codemirror_mode": {
    "name": "ipython",
    "version": 2
   },
   "file_extension": ".py",
   "mimetype": "text/x-python",
   "name": "python",
   "nbconvert_exporter": "python",
   "pygments_lexer": "ipython2",
   "version": "2.7.6"
  }
 },
 "nbformat": 4,
 "nbformat_minor": 0
}