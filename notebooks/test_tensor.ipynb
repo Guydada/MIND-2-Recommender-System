{
 "cells": [
  {
   "cell_type": "code",
   "execution_count": 1,
   "metadata": {
    "collapsed": true,
    "pycharm": {
     "name": "#%%\n"
    }
   },
   "outputs": [],
   "source": [
    "from mind import Mind\n",
    "import numpy as np\n",
    "import matplotlib.pyplot as plt\n",
    "import pandas as pd\n",
    "import os\n",
    "import torch"
   ]
  },
  {
   "cell_type": "code",
   "execution_count": 2,
   "outputs": [
    {
     "name": "stdout",
     "output_type": "stream",
     "text": [
      "Loading MIND Class\n",
      "Done setting attributes, loading data\n",
      "TF-IDF applied, indexing data\n",
      "\n",
      "..\\pkl\\MIND_train_size_463060.pkl already exists\n",
      "Overwrite? [y/N]:Overwriting\n",
      "MIND Saved\n",
      "Done\n"
     ]
    }
   ],
   "source": [
    "device = torch.device(\"cuda:0\" if torch.cuda.is_available() else \"cpu\")\n",
    "cuda = torch.cuda.is_available()\n",
    "\n",
    "\n",
    "train_params = dict(mode='tfidf',  # tfidf, model\n",
    "                    data_path='../data/',  # path to data\n",
    "                    min_df=0.0005,  # min_df for tfidf\n",
    "                    max_features=None,  # for tfidf\n",
    "                    cols='title',  # for tfidf\n",
    "                    ngram_range=(1, 2),  # for tfidf\n",
    "                    filename=None,  # for saving. if None, sets default name\n",
    "                    device=device,  # for torch\n",
    "                    cuda=cuda,  # for torch\n",
    "                    data_type='train',  # if set to 'test' no undersampling is done\n",
    "                    undersample=True,  # manually set to False if you don't want undersampling\n",
    "                    save=True,  # if set to False, no data is saved\n",
    "                    sessions=False,\n",
    "                    pkl_path='../pkl/')\n",
    "# train = Mind(**train_params)\n",
    "train = tra"
   ],
   "metadata": {
    "collapsed": false,
    "pycharm": {
     "name": "#%%\n"
    }
   }
  },
  {
   "cell_type": "code",
   "execution_count": 3,
   "outputs": [
    {
     "data": {
      "text/plain": "       index news_id                                               text  \\\n0          0  N55528  brand elizabeth queen philip charles swear prince   \n1          1  N19639                              belly habit fat worst   \n2          2  N61837           aid trump trench cost war freeze ukraine   \n3          3  N53526                    affected mental health nba wife   \n4          4  N38324           rid skin get according tag dermatologist   \n...      ...     ...                                                ...   \n51277  22200  N42402  man intentional virginia beach head crash pris...   \n51278  22201  N41543  decade ready kentucky second john adapting sta...   \n51279  22202  N59720                               recover smith astros   \n51280  22203  N22625             paid player analyzing team highest nba   \n51281  51281  N44276                        sport best october car deal   \n\n       clicks  \n0      4249.0  \n1      3289.0  \n2      3181.0  \n3      2782.0  \n4      2519.0  \n...       ...  \n51277     0.0  \n51278     0.0  \n51279     0.0  \n51280     0.0  \n51281     0.0  \n\n[51282 rows x 4 columns]",
      "text/html": "<div>\n<style scoped>\n    .dataframe tbody tr th:only-of-type {\n        vertical-align: middle;\n    }\n\n    .dataframe tbody tr th {\n        vertical-align: top;\n    }\n\n    .dataframe thead th {\n        text-align: right;\n    }\n</style>\n<table border=\"1\" class=\"dataframe\">\n  <thead>\n    <tr style=\"text-align: right;\">\n      <th></th>\n      <th>index</th>\n      <th>news_id</th>\n      <th>text</th>\n      <th>clicks</th>\n    </tr>\n  </thead>\n  <tbody>\n    <tr>\n      <th>0</th>\n      <td>0</td>\n      <td>N55528</td>\n      <td>brand elizabeth queen philip charles swear prince</td>\n      <td>4249.0</td>\n    </tr>\n    <tr>\n      <th>1</th>\n      <td>1</td>\n      <td>N19639</td>\n      <td>belly habit fat worst</td>\n      <td>3289.0</td>\n    </tr>\n    <tr>\n      <th>2</th>\n      <td>2</td>\n      <td>N61837</td>\n      <td>aid trump trench cost war freeze ukraine</td>\n      <td>3181.0</td>\n    </tr>\n    <tr>\n      <th>3</th>\n      <td>3</td>\n      <td>N53526</td>\n      <td>affected mental health nba wife</td>\n      <td>2782.0</td>\n    </tr>\n    <tr>\n      <th>4</th>\n      <td>4</td>\n      <td>N38324</td>\n      <td>rid skin get according tag dermatologist</td>\n      <td>2519.0</td>\n    </tr>\n    <tr>\n      <th>...</th>\n      <td>...</td>\n      <td>...</td>\n      <td>...</td>\n      <td>...</td>\n    </tr>\n    <tr>\n      <th>51277</th>\n      <td>22200</td>\n      <td>N42402</td>\n      <td>man intentional virginia beach head crash pris...</td>\n      <td>0.0</td>\n    </tr>\n    <tr>\n      <th>51278</th>\n      <td>22201</td>\n      <td>N41543</td>\n      <td>decade ready kentucky second john adapting sta...</td>\n      <td>0.0</td>\n    </tr>\n    <tr>\n      <th>51279</th>\n      <td>22202</td>\n      <td>N59720</td>\n      <td>recover smith astros</td>\n      <td>0.0</td>\n    </tr>\n    <tr>\n      <th>51280</th>\n      <td>22203</td>\n      <td>N22625</td>\n      <td>paid player analyzing team highest nba</td>\n      <td>0.0</td>\n    </tr>\n    <tr>\n      <th>51281</th>\n      <td>51281</td>\n      <td>N44276</td>\n      <td>sport best october car deal</td>\n      <td>0.0</td>\n    </tr>\n  </tbody>\n</table>\n<p>51282 rows × 4 columns</p>\n</div>"
     },
     "execution_count": 3,
     "metadata": {},
     "output_type": "execute_result"
    }
   ],
   "source": [
    "train.news"
   ],
   "metadata": {
    "collapsed": false,
    "pycharm": {
     "name": "#%%\n"
    }
   }
  }
 ],
 "metadata": {
  "kernelspec": {
   "display_name": "Python 3",
   "language": "python",
   "name": "python3"
  },
  "language_info": {
   "codemirror_mode": {
    "name": "ipython",
    "version": 2
   },
   "file_extension": ".py",
   "mimetype": "text/x-python",
   "name": "python",
   "nbconvert_exporter": "python",
   "pygments_lexer": "ipython2",
   "version": "2.7.6"
  }
 },
 "nbformat": 4,
 "nbformat_minor": 0
}